{
 "cells": [
  {
   "cell_type": "markdown",
   "metadata": {},
   "source": [
    "## Strings"
   ]
  },
  {
   "cell_type": "markdown",
   "metadata": {},
   "source": [
    "1. Haz un programa que lea una secuencia de caracteres acabada en punto y que escriba cuántas letras ‘a’ contiene."
   ]
  },
  {
   "cell_type": "markdown",
   "metadata": {},
   "source": [
    "```\n",
    "Input: Hoy hace un buen día\n",
    "\n",
    "Output: La secuencia contiene 2 as\n",
    "    \n",
    "```"
   ]
  },
  {
   "cell_type": "code",
   "execution_count": 99,
   "metadata": {},
   "outputs": [
    {
     "name": "stdout",
     "output_type": "stream",
     "text": [
      "Introduce una frase: Hoy hace un buen día\n",
      "La secuencia contiene 2 as\n"
     ]
    }
   ],
   "source": [
    "s = input('Introduce una frase: ')\n",
    "cont = 0\n",
    "\n",
    "for c in s:\n",
    "    if c == 'a':\n",
    "        cont += 1\n",
    "print('La secuencia contiene {} as'.format(cont))"
   ]
  },
  {
   "cell_type": "markdown",
   "metadata": {},
   "source": [
    "2. Haz un programa que encuentre todas las apariciones de una subcadena en una cadena dada."
   ]
  },
  {
   "cell_type": "markdown",
   "metadata": {},
   "source": [
    "```\n",
    "Input: Mi mamá me mima\n",
    "\n",
    "Output: La subcadena mi aparece 2 en mi mamá me mima\n",
    "    \n",
    "```"
   ]
  },
  {
   "cell_type": "code",
   "execution_count": 5,
   "metadata": {},
   "outputs": [
    {
     "name": "stdout",
     "output_type": "stream",
     "text": [
      "Introduce una frase: mi mamá me mima\n",
      "Introduce la subcadena: mi\n",
      "La subcadena mi aparece 2 en mi mamá me mima\n"
     ]
    }
   ],
   "source": [
    "s = input('Introduce una frase: ')\n",
    "subseq = input('Introduce la subcadena: ')\n",
    "\n",
    "cont = s.count(subseq.lower())\n",
    "\n",
    "print('La subcadena {} aparece {} en {}'.format(subseq, cont, s))\n"
   ]
  },
  {
   "cell_type": "markdown",
   "metadata": {},
   "source": [
    "3. Haz un programa que invierta una cadena dada."
   ]
  },
  {
   "cell_type": "markdown",
   "metadata": {},
   "source": [
    "```\n",
    "Input: hola y adios\n",
    "\n",
    "Output: soida y aloh\n",
    "    \n",
    "```"
   ]
  },
  {
   "cell_type": "code",
   "execution_count": 15,
   "metadata": {},
   "outputs": [
    {
     "name": "stdout",
     "output_type": "stream",
     "text": [
      "Introduce una frase: hola y adios\n",
      "soida y aloh\n",
      "soida y aloh\n"
     ]
    }
   ],
   "source": [
    "s = input('Introduce una frase: ')\n",
    "\n",
    "reverse = ''.join(reversed(s))\n",
    "print(reverse)\n",
    "\n",
    "# Solución alternativa \n",
    "print(s[::-1])"
   ]
  },
  {
   "cell_type": "markdown",
   "metadata": {},
   "source": [
    "4. Haz un programa que divida una cadena en guiones."
   ]
  },
  {
   "cell_type": "markdown",
   "metadata": {},
   "source": [
    "```\n",
    "Input: 'hola-y-adios'\n",
    "\n",
    "Output: \n",
    "hola \n",
    "y\n",
    "adios\n",
    "    \n",
    "```"
   ]
  },
  {
   "cell_type": "code",
   "execution_count": 17,
   "metadata": {},
   "outputs": [
    {
     "name": "stdout",
     "output_type": "stream",
     "text": [
      "Introduce una frase: hola-y-adios\n",
      "hola\n",
      "y\n",
      "adios\n"
     ]
    }
   ],
   "source": [
    "s = input('Introduce una frase: ')\n",
    "\n",
    "resultado = s.split('-')\n",
    "\n",
    "for e in resultado:\n",
    "    print(e)"
   ]
  },
  {
   "cell_type": "markdown",
   "metadata": {},
   "source": [
    "5. Haz un programa que añada una nueva cadena en medio de una cadena dada."
   ]
  },
  {
   "cell_type": "markdown",
   "metadata": {},
   "source": [
    "```\n",
    "Input: 'hola hola'\n",
    "\n",
    "Output: 'hola adioshola'\n",
    "    \n",
    "```"
   ]
  },
  {
   "cell_type": "code",
   "execution_count": 21,
   "metadata": {},
   "outputs": [
    {
     "name": "stdout",
     "output_type": "stream",
     "text": [
      "Introduce la primera cadena: hola hola \n",
      "Introduce la segunda cadena: adios\n",
      "hola adioshola \n"
     ]
    }
   ],
   "source": [
    "s1 = input('Introduce la primera cadena: ')\n",
    "s2 = input('Introduce la segunda cadena: ')\n",
    "\n",
    "m = int(len(s1) / 2)\n",
    "\n",
    "x = s1[:m:]\n",
    "\n",
    "x += s2\n",
    "\n",
    "x += s1[m:]\n",
    "\n",
    "print(x)"
   ]
  },
  {
   "cell_type": "markdown",
   "metadata": {},
   "source": [
    "6. Haz un programa que encuentre la última posición de una subcadena dada."
   ]
  },
  {
   "cell_type": "markdown",
   "metadata": {},
   "source": [
    "```\n",
    "Input: mi casa, tu casa\n",
    "\n",
    "Output: La segunda cadena empieza en la posición 12\n",
    "    \n",
    "```"
   ]
  },
  {
   "cell_type": "code",
   "execution_count": 23,
   "metadata": {},
   "outputs": [
    {
     "name": "stdout",
     "output_type": "stream",
     "text": [
      "Introduce una cadena: mi casa, tu casa\n",
      "Introduce la segunda cadena: casa\n",
      "La segunda cadena empieza en la posición 12\n"
     ]
    }
   ],
   "source": [
    "s1 = input('Introduce una cadena: ')\n",
    "s2 = input('Introduce la segunda cadena: ')\n",
    "\n",
    "pos = s1.rfind(s2)\n",
    "\n",
    "print('La segunda cadena empieza en la posición {}'.format(pos))"
   ]
  },
  {
   "cell_type": "markdown",
   "metadata": {},
   "source": [
    "7. Haz un programa que elimine cadenas vacías de una lista de cadenas."
   ]
  },
  {
   "cell_type": "markdown",
   "metadata": {},
   "source": [
    "```\n",
    "Input: 'Esta cadena tiene espacios en blanco'\n",
    "\n",
    "Output: 'Estacadenatieneespaciosenblanco'\n",
    "    \n",
    "```"
   ]
  },
  {
   "cell_type": "code",
   "execution_count": 24,
   "metadata": {},
   "outputs": [
    {
     "name": "stdout",
     "output_type": "stream",
     "text": [
      "Introduce una cadena: Esta cadena tiene espacios en blanco\n",
      "Estacadenatieneespaciosenblanco\n"
     ]
    }
   ],
   "source": [
    "s = input('Introduce una cadena: ')\n",
    "s = s.replace(' ', '')\n",
    "print(s)"
   ]
  },
  {
   "cell_type": "markdown",
   "metadata": {},
   "source": [
    "8. Haz un programa que elimine símbolos especiales / signos de puntuación de una cadena."
   ]
  },
  {
   "cell_type": "markdown",
   "metadata": {},
   "source": [
    "```\n",
    "Input: '*Hoy hace & un@ día'\n",
    "\n",
    "Output: 'Hoy hace  un día'\n",
    "    \n",
    "```"
   ]
  },
  {
   "cell_type": "code",
   "execution_count": 25,
   "metadata": {},
   "outputs": [
    {
     "name": "stdout",
     "output_type": "stream",
     "text": [
      "Introduce una cadena: *Hoy hace & un@ día\n",
      "Hoy hace  un día\n"
     ]
    }
   ],
   "source": [
    "import string\n",
    "\n",
    "s = input('Introduce una cadena: ')\n",
    "new_s = s.translate(str.maketrans('', '', string.punctuation))\n",
    "\n",
    "print(new_s)"
   ]
  },
  {
   "cell_type": "markdown",
   "metadata": {},
   "source": [
    "9. Haz un programa que encuentre palabras con letras y números."
   ]
  },
  {
   "cell_type": "markdown",
   "metadata": {},
   "source": [
    "```\n",
    "Input: 'hoy25 hace un b4uen5 día'\n",
    "\n",
    "Output: 'hoy25 b4uen5'\n",
    "    \n",
    "```"
   ]
  },
  {
   "cell_type": "code",
   "execution_count": 27,
   "metadata": {},
   "outputs": [
    {
     "name": "stdout",
     "output_type": "stream",
     "text": [
      "Introduce una cadena: hoy25 hace un b4uen5 día\n",
      "hoy25 b4uen5\n"
     ]
    }
   ],
   "source": [
    "s = input('Introduce una cadena: ')\n",
    "\n",
    "seq = s.split()\n",
    "\n",
    "resultado = ''\n",
    "\n",
    "for item in seq:\n",
    "    # Si tiene algun caracter que pertenece al alfabeto y contiene algún número \n",
    "    if any(char.isalpha() for char in item) and any(char.isdigit() for char in item):\n",
    "        resultado = resultado + ' ' + item\n",
    "        \n",
    "# Eliminamos el espacio del inicio\n",
    "resultado = resultado[1:]\n",
    "print(resultado)"
   ]
  },
  {
   "cell_type": "markdown",
   "metadata": {},
   "source": [
    "10. Haz un programa que sustituya cada símbolo especial por # en la siguiente cadena."
   ]
  },
  {
   "cell_type": "markdown",
   "metadata": {},
   "source": [
    "```\n",
    "Input: 'hoy* h$ace un b&uen dia@'\n",
    "\n",
    "Output: 'hoy# h#ace un b#uen dia#'\n",
    "    \n",
    "```"
   ]
  },
  {
   "cell_type": "code",
   "execution_count": 28,
   "metadata": {},
   "outputs": [
    {
     "name": "stdout",
     "output_type": "stream",
     "text": [
      "Introduce una cadena: hoy* h$ace un b&uen dia@\n",
      "hoy# h#ace un b#uen dia#\n"
     ]
    }
   ],
   "source": [
    "import string\n",
    "\n",
    "s = input('Introduce una cadena: ')\n",
    "\n",
    "for char in string.punctuation:\n",
    "    s = s.replace(char, '#')\n",
    "\n",
    "print(s)"
   ]
  },
  {
   "cell_type": "markdown",
   "metadata": {},
   "source": [
    "## Listas"
   ]
  },
  {
   "cell_type": "markdown",
   "metadata": {},
   "source": [
    "1. Haz un programa que lea una lista dado su tamaño e imprima el segundo elemento (si existe)."
   ]
  },
  {
   "cell_type": "markdown",
   "metadata": {},
   "source": [
    "```\n",
    "Input:\n",
    "4\n",
    "h\n",
    "l\n",
    "v\n",
    "e\n",
    "    \n",
    "Output: Tamaño de la secuencia 4 y segundo elemento: l\n",
    "    \n",
    "```"
   ]
  },
  {
   "cell_type": "code",
   "execution_count": 29,
   "metadata": {},
   "outputs": [
    {
     "name": "stdout",
     "output_type": "stream",
     "text": [
      "Introduce la longitud de la secuencia: 4\n",
      "Introduce un elemento de la secuencia: h\n",
      "Introduce un elemento de la secuencia: l\n",
      "Introduce un elemento de la secuencia: v\n",
      "Introduce un elemento de la secuencia: e\n",
      "Tamaño de la secuencia 4 y segundo elemento: l\n"
     ]
    }
   ],
   "source": [
    "l = []\n",
    "n = int(input('Introduce la longitud de la secuencia: '))\n",
    "\n",
    "for i in range(0, n):\n",
    "    x =  input('Introduce un elemento de la secuencia: ')\n",
    "    l.append(x)\n",
    "    \n",
    "if len(l) > 1:\n",
    "    print('Tamaño de la secuencia {} y segundo elemento: {}'.format(len(l), l[1]))\n"
   ]
  },
  {
   "cell_type": "markdown",
   "metadata": {},
   "source": [
    "2. Haz un programa que lea una secuencia no vacía de enteros acabada en -1, y que escriba cuántos son iguales al último."
   ]
  },
  {
   "cell_type": "markdown",
   "metadata": {},
   "source": [
    "```\n",
    "Input: 3 4 -2 3 -7 3 -1\n",
    "    \n",
    "Output: Existen 2 elementos iguales al último elemento\n",
    "    \n",
    "```"
   ]
  },
  {
   "cell_type": "code",
   "execution_count": 34,
   "metadata": {},
   "outputs": [
    {
     "name": "stdout",
     "output_type": "stream",
     "text": [
      "Introduce un entero de la secuencia: 3\n",
      "Introduce un entero de la secuencia: 4\n",
      "Introduce un entero de la secuencia: -2\n",
      "Introduce un entero de la secuencia: 3\n",
      "Introduce un entero de la secuencia: -7\n",
      "Introduce un entero de la secuencia: 3\n",
      "Introduce un entero de la secuencia: -1\n",
      "Existen 2 elementos iguales al último elemento\n"
     ]
    }
   ],
   "source": [
    "x = int(input('Introduce un entero de la secuencia: '))\n",
    "l = []\n",
    "\n",
    "while x != -1:\n",
    "    l.append(x)\n",
    "    x = int(input('Introduce un entero de la secuencia: '))\n",
    "\n",
    "ultimo = l[-1]\n",
    "\n",
    "# Restamos uno para no contar la última posición \n",
    "cont = l.count(ultimo) - 1\n",
    "\n",
    "print('Existen {} elementos iguales al último elemento'.format(cont))"
   ]
  },
  {
   "cell_type": "markdown",
   "metadata": {},
   "source": [
    "3. Haz un programa que lea secuencias de enteros acabada en -1, y que escriba cada una invirtiendo la orden de sus elementos."
   ]
  },
  {
   "cell_type": "markdown",
   "metadata": {},
   "source": [
    "```\n",
    "Input: 3 -4 -5 6 -1\n",
    "    \n",
    "Output: [6, -5, -4, 3]\n",
    "    \n",
    "```"
   ]
  },
  {
   "cell_type": "code",
   "execution_count": 36,
   "metadata": {},
   "outputs": [
    {
     "name": "stdout",
     "output_type": "stream",
     "text": [
      "Introduce un entero de la secuencia: 3\n",
      "Introduce un entero de la secuencia: -4\n",
      "Introduce un entero de la secuencia: -5\n",
      "Introduce un entero de la secuencia: 6\n",
      "Introduce un entero de la secuencia: -1\n",
      "[6, -5, -4, 3]\n"
     ]
    }
   ],
   "source": [
    "x = int(input('Introduce un entero de la secuencia: '))\n",
    "l = []\n",
    "\n",
    "while x != -1:\n",
    "    l.append(x)\n",
    "    x = int(input('Introduce un entero de la secuencia: '))\n",
    "    \n",
    "l.reverse()\n",
    "\n",
    "print(l)"
   ]
  },
  {
   "cell_type": "markdown",
   "metadata": {},
   "source": [
    "4. Haz un programa que lea n palabras, y que escriba cada una invirtiendo la orden de sus caracteres."
   ]
  },
  {
   "cell_type": "markdown",
   "metadata": {},
   "source": [
    "```\n",
    "Input: \n",
    "hola\n",
    "adios\n",
    "hasta pronto\n",
    "hasta luego\n",
    "    \n",
    "Output: ['aloh', 'soida', 'otnorp atsah', 'ogeul atsah']\n",
    "    \n",
    "```"
   ]
  },
  {
   "cell_type": "code",
   "execution_count": 38,
   "metadata": {},
   "outputs": [
    {
     "name": "stdout",
     "output_type": "stream",
     "text": [
      "Introduce la longitud de la secuencia: 4\n",
      "Introduce una cadena: hola\n",
      "Introduce una cadena: adios\n",
      "Introduce una cadena: hasta pronto\n",
      "Introduce una cadena: hasta luego\n",
      "['aloh', 'soida', 'otnorp atsah', 'ogeul atsah']\n"
     ]
    }
   ],
   "source": [
    "l = []\n",
    "n = int(input('Introduce la longitud de la secuencia: '))\n",
    "\n",
    "for i in range(0, n):\n",
    "    x =  input('Introduce una cadena: ')\n",
    "    s = ''.join(reversed(x))\n",
    "    l.append(s)\n",
    "    \n",
    "print(l)"
   ]
  },
  {
   "cell_type": "markdown",
   "metadata": {},
   "source": [
    "5. Haz un programa que lea una secuencia de números mientras sean positivos y que escriba la media."
   ]
  },
  {
   "cell_type": "markdown",
   "metadata": {},
   "source": [
    "```\n",
    "Input: 4 10 5 12 -1\n",
    "    \n",
    "Output: 7.75\n",
    "    \n",
    "```"
   ]
  },
  {
   "cell_type": "code",
   "execution_count": 43,
   "metadata": {},
   "outputs": [
    {
     "name": "stdout",
     "output_type": "stream",
     "text": [
      "Introduce un número de la secuencia: 4\n",
      "Introduce un número de la secuencia: 10\n",
      "Introduce un número de la secuencia: 5\n",
      "Introduce un número de la secuencia: 12\n",
      "Introduce un número de la secuencia: -1\n",
      "7.75\n",
      "7.75\n"
     ]
    }
   ],
   "source": [
    "l = []\n",
    "\n",
    "x = int(input('Introduce un número de la secuencia: '))\n",
    "l = []\n",
    "\n",
    "while x > 0:\n",
    "    l.append(x)\n",
    "    x = int(input('Introduce un número de la secuencia: '))\n",
    "\n",
    "print(sum(l) / len(l))\n",
    "    \n",
    "    \n",
    "    \n",
    "# Alternativa\n",
    "\n",
    "from statistics import mean\n",
    "print(mean(l))"
   ]
  },
  {
   "cell_type": "markdown",
   "metadata": {},
   "source": [
    "6. Haz un programa que devuelva la concatenación de v1 y v2, v1 y v2 son dos listas de tamaño n y m. Es decir, hay que devolver un vector que tenga los elementos de v1 seguidos de los elementos de v2."
   ]
  },
  {
   "cell_type": "markdown",
   "metadata": {},
   "source": [
    "```\n",
    "Input:\n",
    "3\n",
    "2\n",
    "a b c\n",
    "d e\n",
    "    \n",
    "Output: ['a', 'b', 'c', 'd', 'e']\n",
    "    \n",
    "```"
   ]
  },
  {
   "cell_type": "code",
   "execution_count": 48,
   "metadata": {},
   "outputs": [
    {
     "name": "stdout",
     "output_type": "stream",
     "text": [
      "Introduce la longitud de la primera secuencia: 3\n",
      "Introduce la longitud de la segunda secuencia: 2\n",
      "Introduce un elemento de la secuencia: a\n",
      "Introduce un elemento de la secuencia: b\n",
      "Introduce un elemento de la secuencia: c\n",
      "Introduce un elemento de la secuencia: d\n",
      "Introduce un elemento de la secuencia: e\n",
      "['a', 'b', 'c', 'd', 'e']\n"
     ]
    }
   ],
   "source": [
    "n = int(input('Introduce la longitud de la primera secuencia: '))\n",
    "m = int(input('Introduce la longitud de la segunda secuencia: '))\n",
    "\n",
    "# Leemos ambas secuencias\n",
    "\n",
    "v1 = []\n",
    "for i in range(0, n):\n",
    "    x =  input('Introduce un elemento de la secuencia: ')\n",
    "    v1.append(x)\n",
    "    \n",
    "v2 = []\n",
    "for i in range(0, m):\n",
    "    x =  input('Introduce un elemento de la secuencia: ')\n",
    "    v2.append(x)\n",
    "    \n",
    "v1.extend(v2)\n",
    "print(v1)"
   ]
  },
  {
   "cell_type": "markdown",
   "metadata": {},
   "source": [
    "7. Haz un programa que almacene en una lista los siguientes precios, 50, 75, 46, 22, 80, 65, 8, y muestre por pantalla el menor y el mayor de los precios."
   ]
  },
  {
   "cell_type": "markdown",
   "metadata": {},
   "source": [
    "```\n",
    "Input: [50, 75, 46, 22, 80, 65, 8]\n",
    "    \n",
    "Output: 8 80\n",
    "    \n",
    "```"
   ]
  },
  {
   "cell_type": "code",
   "execution_count": 49,
   "metadata": {},
   "outputs": [
    {
     "name": "stdout",
     "output_type": "stream",
     "text": [
      "8\n",
      "80\n"
     ]
    }
   ],
   "source": [
    "l = [50, 75, 46, 22, 80, 65, 8]\n",
    "\n",
    "print(min(l))\n",
    "print(max(l))"
   ]
  },
  {
   "cell_type": "markdown",
   "metadata": {},
   "source": [
    "8. Haz un programa que almacene las asignaturas de un curso (por ejemplo Matemáticas, Física, Química, Historia y Lengua) en una lista y la muestre por pantalla."
   ]
  },
  {
   "cell_type": "markdown",
   "metadata": {},
   "source": [
    "```\n",
    "Input: ['Matemáticas', 'Física', 'Química', 'Historia', 'Lengua']\n",
    "    \n",
    "Output:\n",
    "Matemáticas\n",
    "Física\n",
    "Química\n",
    "Historia\n",
    "Lengua\n",
    "    \n",
    "```"
   ]
  },
  {
   "cell_type": "code",
   "execution_count": 50,
   "metadata": {},
   "outputs": [
    {
     "name": "stdout",
     "output_type": "stream",
     "text": [
      "Matemáticas\n",
      "Física\n",
      "Química\n",
      "Historia\n",
      "Lengua\n"
     ]
    }
   ],
   "source": [
    "l = ['Matemáticas', 'Física', 'Química', 'Historia', 'Lengua']\n",
    "\n",
    "for e in l:\n",
    "    print(e)"
   ]
  },
  {
   "cell_type": "markdown",
   "metadata": {},
   "source": [
    "9. Haz un programa que almacene en una lista los números del 1 al 10 y los muestre por pantalla en orden inverso separados por comas.\n"
   ]
  },
  {
   "cell_type": "markdown",
   "metadata": {},
   "source": [
    "```\n",
    "Input: [1, 2, 3, 4, 5, 6, 7, 8, 9, 10]\n",
    "    \n",
    "Output: 10, 9, 8, 7, 6, 5, 4, 3, 2, 1\n",
    "    \n",
    "```"
   ]
  },
  {
   "cell_type": "code",
   "execution_count": 54,
   "metadata": {},
   "outputs": [
    {
     "name": "stdout",
     "output_type": "stream",
     "text": [
      "10, 9, 8, 7, 6, 5, 4, 3, 2, 1\n"
     ]
    }
   ],
   "source": [
    "l = list(range(1, 11))\n",
    "l.reverse()\n",
    "\n",
    "resultado = ''\n",
    "for i,e in enumerate(l):\n",
    "    if i == 0:\n",
    "        resultado += str(e)\n",
    "    else:\n",
    "        resultado += ', {}'.format(e)\n",
    "print(resultado)"
   ]
  },
  {
   "cell_type": "markdown",
   "metadata": {},
   "source": [
    "10. Haz un programa que concatene dos listas del mismo tamaño n alternando elementos de una lista y otra."
   ]
  },
  {
   "cell_type": "markdown",
   "metadata": {},
   "source": [
    "```\n",
    "Input:\n",
    "3\n",
    "a c e\n",
    "b d f\n",
    "    \n",
    "Output: ['a', 'b', 'c', 'd', 'e', 'f']\n",
    "    \n",
    "```"
   ]
  },
  {
   "cell_type": "code",
   "execution_count": 55,
   "metadata": {},
   "outputs": [
    {
     "name": "stdout",
     "output_type": "stream",
     "text": [
      "Introduce la longitud de la primera secuencia: 3\n",
      "Introduce un elemento de la secuencia: a\n",
      "Introduce un elemento de la secuencia: c\n",
      "Introduce un elemento de la secuencia: e\n",
      "Introduce un elemento de la secuencia: b\n",
      "Introduce un elemento de la secuencia: d\n",
      "Introduce un elemento de la secuencia: f\n",
      "['a', 'b', 'c', 'd', 'e', 'f']\n"
     ]
    }
   ],
   "source": [
    "n = int(input('Introduce la longitud de la primera secuencia: '))\n",
    "\n",
    "# Leemos ambas secuencias\n",
    "\n",
    "v1 = []\n",
    "for i in range(0, n):\n",
    "    x =  input('Introduce un elemento de la secuencia: ')\n",
    "    v1.append(x)\n",
    "    \n",
    "v2 = []\n",
    "for i in range(0, n):\n",
    "    x =  input('Introduce un elemento de la secuencia: ')\n",
    "    v2.append(x)\n",
    "    \n",
    "l = []\n",
    "for i in range(0, n):\n",
    "    l.append(v1[i])\n",
    "    l.append(v2[i])\n",
    "    \n",
    "print(l)"
   ]
  },
  {
   "cell_type": "markdown",
   "metadata": {},
   "source": [
    "11. Haz un programa que itere ambas listas de tamaños n y m (siendo n y m números distintos )simultáneamente e imprima sus elementos."
   ]
  },
  {
   "cell_type": "markdown",
   "metadata": {},
   "source": [
    "```\n",
    "Input:\n",
    "1\n",
    "3\n",
    "a\n",
    "b c d\n",
    "    \n",
    "Output:\n",
    "a\n",
    "b\n",
    "c\n",
    "d\n",
    "    \n",
    "```"
   ]
  },
  {
   "cell_type": "code",
   "execution_count": 63,
   "metadata": {},
   "outputs": [
    {
     "name": "stdout",
     "output_type": "stream",
     "text": [
      "Introduce la longitud de la primera secuencia: 1\n",
      "Introduce la longitud de la segunda secuencia: 3\n",
      "Introduce un elemento de la secuencia: a\n",
      "Introduce un elemento de la secuencia: b\n",
      "Introduce un elemento de la secuencia: c\n",
      "Introduce un elemento de la secuencia: d\n",
      "a\n",
      "b\n",
      "c\n",
      "d\n"
     ]
    }
   ],
   "source": [
    "n = int(input('Introduce la longitud de la primera secuencia: '))\n",
    "m = int(input('Introduce la longitud de la segunda secuencia: '))\n",
    "\n",
    "# Leemos ambas secuencias\n",
    "\n",
    "\n",
    "v1 = []\n",
    "for i in range(0, n):\n",
    "    x =  input('Introduce un elemento de la secuencia: ')\n",
    "    v1.append(x)\n",
    "    \n",
    "v2 = []\n",
    "for i in range(0, m):\n",
    "    x =  input('Introduce un elemento de la secuencia: ')\n",
    "    v2.append(x)\n",
    "    \n",
    "\n",
    "i = 0\n",
    "j = 0\n",
    "\n",
    "while i < len(v1) or j < len(v2) :\n",
    "    if i < len(v1):\n",
    "        print(v1[i])\n",
    "    if j < len(v2):\n",
    "        print(v2[j])\n",
    "        \n",
    "    i += 1\n",
    "    j += 1\n",
    "    "
   ]
  },
  {
   "cell_type": "markdown",
   "metadata": {},
   "source": [
    "12. Haz un programa que añada un nuevo elemento 60 a la lista [10, 50, 40, 20, 30] después de un elemento especificado por el usuario. Si el elemento introducido no está presente en la lista debe mostrar el mensaje: 'Elemento no presente en la lista'."
   ]
  },
  {
   "cell_type": "markdown",
   "metadata": {},
   "source": [
    "```\n",
    "Input: \n",
    "\n",
    "[10, 50, 40, 20, 30]\n",
    "\n",
    "20\n",
    "\n",
    "    \n",
    "Output: [10, 50, 40, 20, 60, 30]\n",
    "    \n",
    "```"
   ]
  },
  {
   "cell_type": "code",
   "execution_count": 65,
   "metadata": {},
   "outputs": [
    {
     "name": "stdout",
     "output_type": "stream",
     "text": [
      "Introduce un elemento presente en la lista: 20\n",
      "[10, 50, 40, 20, 60, 30]\n"
     ]
    }
   ],
   "source": [
    "l = [10, 50, 40, 20, 30]\n",
    "\n",
    "x = int(input('Introduce un elemento presente en la lista: '))\n",
    "y = 60\n",
    "\n",
    "if x in l:\n",
    "    posicion = l.index(x)\n",
    "    l.insert(posicion + 1, y)\n",
    "    print(l)\n",
    "else:\n",
    "    print('Elemento no presente en la lista')\n",
    "    "
   ]
  },
  {
   "cell_type": "markdown",
   "metadata": {},
   "source": [
    "13. Haz un programa que elimine todas las apariciones de un elemento específico introducido por el usuario de la lista [10, 50, 40, 20, 60, 30]."
   ]
  },
  {
   "cell_type": "markdown",
   "metadata": {},
   "source": [
    "```\n",
    "Input:\n",
    "\n",
    "[10, 50, 40, 20, 60, 30]\n",
    "\n",
    "30\n",
    "    \n",
    "Output: [10, 50, 40, 20, 60]\n",
    "    \n",
    "```"
   ]
  },
  {
   "cell_type": "code",
   "execution_count": 66,
   "metadata": {},
   "outputs": [
    {
     "name": "stdout",
     "output_type": "stream",
     "text": [
      "Introduce el elemento a eliminar de la lista: 30\n",
      "[10, 50, 40, 20, 60]\n"
     ]
    }
   ],
   "source": [
    "l = [10, 50, 40, 20, 60, 30]\n",
    "x = int(input('Introduce el elemento a eliminar de la lista: '))\n",
    "\n",
    "while x in l:\n",
    "    l.remove(x)\n",
    "    \n",
    "print(l)"
   ]
  },
  {
   "cell_type": "markdown",
   "metadata": {},
   "source": [
    "## Tuplas"
   ]
  },
  {
   "cell_type": "markdown",
   "metadata": {},
   "source": [
    "1. Haz una programa que invierta una tupla."
   ]
  },
  {
   "cell_type": "markdown",
   "metadata": {},
   "source": [
    "```\n",
    "Input: (10, 20, 30, 40, 50)\n",
    "    \n",
    "Output: (50, 40, 30, 20, 10)\n",
    "    \n",
    "```"
   ]
  },
  {
   "cell_type": "code",
   "execution_count": null,
   "metadata": {},
   "outputs": [],
   "source": [
    "t1 = (10, 20, 30, 40, 50)\n",
    "t1 = t1[::-1]\n",
    "\n",
    "print(t1)"
   ]
  },
  {
   "cell_type": "markdown",
   "metadata": {},
   "source": [
    "2. Haz un programa que acceda al valor 15 de la tupla."
   ]
  },
  {
   "cell_type": "markdown",
   "metadata": {},
   "source": [
    "```\n",
    "Input: (\"Naranja\", [10, 20, 30], (5, 15, 25))\n",
    "    \n",
    "Output: 15\n",
    "    \n",
    "```"
   ]
  },
  {
   "cell_type": "code",
   "execution_count": 67,
   "metadata": {},
   "outputs": [
    {
     "name": "stdout",
     "output_type": "stream",
     "text": [
      "15\n"
     ]
    }
   ],
   "source": [
    "t1 = (\"Naranja\", [10, 20, 30], (5, 15, 25))\n",
    "\n",
    "print(t1[2][1])\n"
   ]
  },
  {
   "cell_type": "markdown",
   "metadata": {},
   "source": [
    "3. Haz un programa que declare una tupla con un solo elemento 10."
   ]
  },
  {
   "cell_type": "markdown",
   "metadata": {},
   "source": [
    "```\n",
    "Input: \n",
    "    \n",
    "Output: (10, )\n",
    "    \n",
    "```"
   ]
  },
  {
   "cell_type": "code",
   "execution_count": 68,
   "metadata": {},
   "outputs": [
    {
     "name": "stdout",
     "output_type": "stream",
     "text": [
      "(10,)\n"
     ]
    }
   ],
   "source": [
    "t = (10, )\n",
    "\n",
    "print(t)"
   ]
  },
  {
   "cell_type": "markdown",
   "metadata": {},
   "source": [
    "4. Haz un programa que descomponga la tupla en 4 variables."
   ]
  },
  {
   "cell_type": "markdown",
   "metadata": {},
   "source": [
    "```\n",
    "Input:  (10, 20, 30, 40)\n",
    "    \n",
    "Output:\n",
    "\n",
    "10\n",
    "20\n",
    "30\n",
    "40\n",
    "    \n",
    "```"
   ]
  },
  {
   "cell_type": "code",
   "execution_count": 69,
   "metadata": {},
   "outputs": [
    {
     "name": "stdout",
     "output_type": "stream",
     "text": [
      "10\n",
      "20\n",
      "30\n",
      "40\n"
     ]
    }
   ],
   "source": [
    "t = (10, 20, 30, 40)\n",
    "\n",
    "a, b, c, d = t\n",
    "\n",
    "print(a)\n",
    "print(b)\n",
    "print(c)\n",
    "print(d)"
   ]
  },
  {
   "cell_type": "markdown",
   "metadata": {},
   "source": [
    "5. Haz un programa que intercambie dos tuplas en Python."
   ]
  },
  {
   "cell_type": "markdown",
   "metadata": {},
   "source": [
    "```\n",
    "Input: \n",
    "t1 = (1, 2)\n",
    "t2 = (3, 4)\n",
    "    \n",
    "Output:\n",
    "    \n",
    "t1 = (3, 4)\n",
    "t2 = (1, 2)\n",
    "\n",
    "```"
   ]
  },
  {
   "cell_type": "code",
   "execution_count": 70,
   "metadata": {},
   "outputs": [
    {
     "name": "stdout",
     "output_type": "stream",
     "text": [
      "(3, 4)\n",
      "(1, 2)\n"
     ]
    }
   ],
   "source": [
    "t1 = (1, 2)\n",
    "t2 = (3, 4)\n",
    "\n",
    "t1, t2 = t2, t1\n",
    "\n",
    "print(t1)\n",
    "print(t2)"
   ]
  },
  {
   "cell_type": "markdown",
   "metadata": {},
   "source": [
    "6. Haz un programa que copie elementos específicos de una tupla a una nueva tupla."
   ]
  },
  {
   "cell_type": "markdown",
   "metadata": {},
   "source": [
    "```\n",
    "Input: t1 = (11, 22, 33, 44, 55, 66)\n",
    "\n",
    "    \n",
    "Output: t2: (44, 55)\n",
    "\n",
    "    \n",
    "```"
   ]
  },
  {
   "cell_type": "code",
   "execution_count": 73,
   "metadata": {},
   "outputs": [
    {
     "name": "stdout",
     "output_type": "stream",
     "text": [
      "(44, 55)\n"
     ]
    }
   ],
   "source": [
    "t1 = (11, 22, 33, 44, 55, 66)\n",
    "t2 = t1[3:-1]\n",
    "\n",
    "print(t2)"
   ]
  },
  {
   "cell_type": "markdown",
   "metadata": {},
   "source": [
    "7. Haz un programa que modifique una tupla."
   ]
  },
  {
   "cell_type": "markdown",
   "metadata": {},
   "source": [
    "```\n",
    "Input: t1 = (11, [22, 33], 44, 55)\n",
    "\n",
    "    \n",
    "Output: t1: (11, [222, 33], 44, 55)\n",
    "\n",
    "    \n",
    "```"
   ]
  },
  {
   "cell_type": "code",
   "execution_count": 74,
   "metadata": {},
   "outputs": [
    {
     "name": "stdout",
     "output_type": "stream",
     "text": [
      "(11, [222, 33], 44, 55)\n"
     ]
    }
   ],
   "source": [
    "t1 = (11, [22, 33], 44, 55)\n",
    "t1[1][0] = 222\n",
    "\n",
    "print(t1)"
   ]
  },
  {
   "cell_type": "markdown",
   "metadata": {},
   "source": [
    "8. Ordena una tupla de tuplas por el 2º elemento."
   ]
  },
  {
   "cell_type": "markdown",
   "metadata": {},
   "source": [
    "```\n",
    "Input: t1 = (('a', 23),('b', 37),('c', 11), ('d',29))\n",
    "\n",
    "    \n",
    "Output: t1 =(('c', 11), ('a', 23), ('d', 29), ('b', 37))\n",
    "    \n",
    "```"
   ]
  },
  {
   "cell_type": "code",
   "execution_count": 75,
   "metadata": {},
   "outputs": [
    {
     "name": "stdout",
     "output_type": "stream",
     "text": [
      "(('c', 11), ('a', 23), ('d', 29), ('b', 37))\n"
     ]
    }
   ],
   "source": [
    "t1 = (('a', 23), ('b', 37), ('c', 11), ('d', 29))\n",
    "\n",
    "t1 = tuple(sorted(list(t1), key=lambda x: x[1]))\n",
    "\n",
    "print(t1)"
   ]
  },
  {
   "cell_type": "markdown",
   "metadata": {},
   "source": [
    "9. Haz un programa que cuente el número de apariciones del elemento 50 de una tupla."
   ]
  },
  {
   "cell_type": "markdown",
   "metadata": {},
   "source": [
    "```\n",
    "Input: (50, 10, 60, 70, 50)\n",
    "    \n",
    "Output: 2\n",
    "    \n",
    "```"
   ]
  },
  {
   "cell_type": "code",
   "execution_count": 76,
   "metadata": {},
   "outputs": [
    {
     "name": "stdout",
     "output_type": "stream",
     "text": [
      "2\n"
     ]
    }
   ],
   "source": [
    "t1 = (50, 10, 60, 70, 50)\n",
    "\n",
    "print(t1.count(50))"
   ]
  },
  {
   "cell_type": "markdown",
   "metadata": {},
   "source": [
    "10. Haz un programa que compruebe si todos los elementos de la tupla son iguales."
   ]
  },
  {
   "cell_type": "markdown",
   "metadata": {},
   "source": [
    "```\n",
    "Input: (45, 45, 45, 45)\n",
    "    \n",
    "Output: 'Son todos los elementos iguales'\n",
    "    \n",
    "```"
   ]
  },
  {
   "cell_type": "code",
   "execution_count": 78,
   "metadata": {},
   "outputs": [
    {
     "name": "stdout",
     "output_type": "stream",
     "text": [
      "Son todos los elementos iguales\n"
     ]
    }
   ],
   "source": [
    "t1 = (45, 45, 45, 45)\n",
    "\n",
    "i = 1\n",
    "while i < len(t1) and t1[i - 1] == t1[i]:\n",
    "    i += 1\n",
    "    \n",
    "if i == len(t1):\n",
    "    print('Son todos los elementos iguales')\n",
    "else:\n",
    "    print('No todos los elementos son iguales')"
   ]
  },
  {
   "cell_type": "markdown",
   "metadata": {},
   "source": [
    "## Diccionarios"
   ]
  },
  {
   "cell_type": "markdown",
   "metadata": {},
   "source": [
    "1. Haz un programa que convierta dos listas en un diccionario."
   ]
  },
  {
   "cell_type": "markdown",
   "metadata": {},
   "source": [
    "```\n",
    "Input:\n",
    "\n",
    "['a', 'b', 'c']\n",
    "[1, 2, 3]\n",
    "\n",
    "Output: {'a': 1, 'b': 2, 'c': 3}\n",
    "    \n",
    "```"
   ]
  },
  {
   "cell_type": "code",
   "execution_count": 80,
   "metadata": {},
   "outputs": [
    {
     "name": "stdout",
     "output_type": "stream",
     "text": [
      "{'a': 1, 'b': 2, 'c': 3}\n"
     ]
    }
   ],
   "source": [
    "l1 = ['a', 'b', 'c']\n",
    "l2 = [1, 2, 3]\n",
    "\n",
    "d = {}\n",
    "\n",
    "for i in range(0, len(l1)):\n",
    "    d[l1[i]] = l2[i]\n",
    "    \n",
    "print(d)"
   ]
  },
  {
   "cell_type": "markdown",
   "metadata": {},
   "source": [
    "2. Haz un programa que fusione dos diccionarios de Python en uno solo."
   ]
  },
  {
   "cell_type": "markdown",
   "metadata": {},
   "source": [
    "```\n",
    "Input:\n",
    "\n",
    "dict1 = {'diez': 10, 'veinte': 20, 'treinta': 30}\n",
    "dict2 = {'treinta': 30, 'cuarenta': 40, 'cincuenta': 50}\n",
    "    \n",
    "Output: {'diez': 10, 'veinte': 20, 'treinta': 30, 'cuarenta': 40, 'cincuenta': 50}\n",
    "    \n",
    "```"
   ]
  },
  {
   "cell_type": "code",
   "execution_count": 81,
   "metadata": {},
   "outputs": [
    {
     "name": "stdout",
     "output_type": "stream",
     "text": [
      "{'diez': 10, 'veinte': 20, 'treinta': 30, 'cuarenta': 40, 'cincuenta': 50}\n",
      "{'diez': 10, 'veinte': 20, 'treinta': 30, 'cuarenta': 40, 'cincuenta': 50}\n"
     ]
    }
   ],
   "source": [
    "dict1 = {'diez': 10, 'veinte': 20, 'treinta': 30}\n",
    "dict2 = {'treinta': 30, 'cuarenta': 40, 'cincuenta': 50}\n",
    "\n",
    "for k, v in dict2.items():\n",
    "    dict1[k] = v\n",
    "    \n",
    "print(dict1)\n",
    "\n",
    "# Alternativa\n",
    "\n",
    "dict3 = {**dict1, **dict2}\n",
    "print(dict3)"
   ]
  },
  {
   "cell_type": "markdown",
   "metadata": {},
   "source": [
    "3. Haz un programa que imprima el valor de la clave 'history' del siguiente diccionario."
   ]
  },
  {
   "cell_type": "markdown",
   "metadata": {},
   "source": [
    "```\n",
    "Input:\n",
    "\n",
    "{\n",
    "    \"class\": {\n",
    "        \"student\": {\n",
    "            \"name\": \"Mike\",\n",
    "            \"marks\": {\n",
    "                \"physics\": 70,\n",
    "                \"history\": 80\n",
    "            }\n",
    "        }\n",
    "    }\n",
    "}\n",
    "\n",
    "    \n",
    "Output: 80\n",
    "    \n",
    "```"
   ]
  },
  {
   "cell_type": "code",
   "execution_count": 83,
   "metadata": {},
   "outputs": [
    {
     "name": "stdout",
     "output_type": "stream",
     "text": [
      "80\n"
     ]
    }
   ],
   "source": [
    "sampleDict = {\n",
    "    \"class\": {\n",
    "        \"student\": {\n",
    "            \"name\": \"Mike\",\n",
    "            \"marks\": {\n",
    "                \"physics\": 70,\n",
    "                \"history\": 80\n",
    "            }\n",
    "        }\n",
    "    }\n",
    "}\n",
    "\n",
    "print(sampleDict['class']['student']['marks']['history'])"
   ]
  },
  {
   "cell_type": "markdown",
   "metadata": {},
   "source": [
    "4. Haz un programa que inicialice el diccionario con valores por defecto."
   ]
  },
  {
   "cell_type": "markdown",
   "metadata": {},
   "source": [
    "```\n",
    "Input:\n",
    "\n",
    "employees = ['Kelly', 'Emma']\n",
    "defaults = {\"designation\": 'Developer', \"salary\": 8000}\n",
    "    \n",
    "Output: {'Kelly': {'designation': 'Developer', 'salary': 8000}, 'Emma': {'designation': 'Developer', 'salary': 8000}}\n",
    "\n",
    "    \n",
    "```"
   ]
  },
  {
   "cell_type": "code",
   "execution_count": 84,
   "metadata": {},
   "outputs": [
    {
     "name": "stdout",
     "output_type": "stream",
     "text": [
      "{'Kelly': {'designation': 'Developer', 'salary': 8000}, 'Emma': {'designation': 'Developer', 'salary': 8000}}\n"
     ]
    }
   ],
   "source": [
    "employees = ['Kelly', 'Emma']\n",
    "defaults = {\"designation\": 'Developer', \"salary\": 8000}\n",
    "\n",
    "res = dict.fromkeys(employees, defaults)\n",
    "print(res)"
   ]
  },
  {
   "cell_type": "markdown",
   "metadata": {},
   "source": [
    "5. Haz un programa que cree un diccionario extrayendo las claves de un diccionario dado."
   ]
  },
  {
   "cell_type": "markdown",
   "metadata": {},
   "source": [
    "```\n",
    "Input:\n",
    "\n",
    "sample_dict = {\n",
    "    \"name\": \"Kelly\",\n",
    "    \"age\": 25,\n",
    "    \"salary\": 8000,\n",
    "    \"city\": \"New york\"}\n",
    "\n",
    "keys = [\"name\", \"salary\"]\n",
    "    \n",
    "Output: {'name': 'Kelly', 'salary': 8000}\n",
    "    \n",
    "```"
   ]
  },
  {
   "cell_type": "code",
   "execution_count": 85,
   "metadata": {},
   "outputs": [
    {
     "name": "stdout",
     "output_type": "stream",
     "text": [
      "{'name': 'Kelly', 'salary': 8000}\n"
     ]
    }
   ],
   "source": [
    "sample_dict = {\n",
    "    \"name\": \"Kelly\",\n",
    "    \"age\": 25,\n",
    "    \"salary\": 8000,\n",
    "    \"city\": \"New york\"}\n",
    "\n",
    "keys = [\"name\", \"salary\"]\n",
    "\n",
    "res = dict()\n",
    "\n",
    "for k in keys:\n",
    "    res.update({k: sample_dict[k]})\n",
    "    \n",
    "print(res)"
   ]
  },
  {
   "cell_type": "markdown",
   "metadata": {},
   "source": [
    "6. Haz un programa que elimine una lista de claves de un diccionario."
   ]
  },
  {
   "cell_type": "markdown",
   "metadata": {},
   "source": [
    "```\n",
    "Input:\n",
    "\n",
    "sample_dict = {\n",
    "    \"name\": \"Kelly\",\n",
    "    \"age\": 25,\n",
    "    \"salary\": 8000,\n",
    "    \"city\": \"New york\"\n",
    "}\n",
    "\n",
    "# Keys a eliminar\n",
    "keys = [\"name\", \"salary\"]\n",
    "    \n",
    "Output: {'age': 25, 'city': 'New york'}\n",
    "    \n",
    "```"
   ]
  },
  {
   "cell_type": "code",
   "execution_count": 86,
   "metadata": {},
   "outputs": [
    {
     "name": "stdout",
     "output_type": "stream",
     "text": [
      "{'age': 25, 'city': 'New york'}\n"
     ]
    }
   ],
   "source": [
    "sample_dict = {\n",
    "    \"name\": \"Kelly\",\n",
    "    \"age\": 25,\n",
    "    \"salary\": 8000,\n",
    "    \"city\": \"New york\"\n",
    "}\n",
    "keys = [\"name\", \"salary\"]\n",
    "\n",
    "for k in keys:\n",
    "    sample_dict.pop(k)\n",
    "    \n",
    "print(sample_dict)"
   ]
  },
  {
   "cell_type": "markdown",
   "metadata": {},
   "source": [
    "7. Haz un programa que compruebe si un valor existe en un diccionario."
   ]
  },
  {
   "cell_type": "markdown",
   "metadata": {},
   "source": [
    "```\n",
    "Input:\n",
    "\n",
    "{'a': 100, 'b': 200, 'c': 300}\n",
    " \n",
    "200\n",
    "    \n",
    "Output: 200 presente en el diccionario\n",
    "    \n",
    "```"
   ]
  },
  {
   "cell_type": "code",
   "execution_count": 87,
   "metadata": {},
   "outputs": [
    {
     "name": "stdout",
     "output_type": "stream",
     "text": [
      "200 presente en el diccionario\n"
     ]
    }
   ],
   "source": [
    "sample_dict = {'a': 100, 'b': 200, 'c': 300}\n",
    "x = 200\n",
    "\n",
    "if x in sample_dict.values():\n",
    "    print('{} presente en el diccionario'.format(x))"
   ]
  },
  {
   "cell_type": "markdown",
   "metadata": {},
   "source": [
    "8. Haz un programa que cambie el nombre de la clave de un diccionario."
   ]
  },
  {
   "cell_type": "markdown",
   "metadata": {},
   "source": [
    "```\n",
    "Input:\n",
    "\n",
    "sample_dict = {\n",
    "  \"name\": \"Kelly\",\n",
    "  \"age\":25,\n",
    "  \"salary\": 8000,\n",
    "  \"city\": \"New york\"\n",
    "}\n",
    "    \n",
    "Output: {'name': 'Kelly', 'age': 25, 'salary': 8000, 'location': 'New york'}\n",
    "\n",
    "    \n",
    "```"
   ]
  },
  {
   "cell_type": "code",
   "execution_count": 88,
   "metadata": {},
   "outputs": [
    {
     "name": "stdout",
     "output_type": "stream",
     "text": [
      "{'name': 'Kelly', 'age': 25, 'salary': 8000, 'location': 'New york'}\n"
     ]
    }
   ],
   "source": [
    "sample_dict = {\n",
    "    \"name\": \"Kelly\",\n",
    "    \"age\": 25,\n",
    "    \"salary\": 8000,\n",
    "    \"city\": \"New york\"\n",
    "}\n",
    "\n",
    "sample_dict['location'] = sample_dict.pop('city')\n",
    "print(sample_dict)"
   ]
  },
  {
   "cell_type": "markdown",
   "metadata": {},
   "source": [
    "9. Haz un programa que obtenga la clave de un valor mínimo del siguiente diccionario."
   ]
  },
  {
   "cell_type": "markdown",
   "metadata": {},
   "source": [
    "```\n",
    "Input:\n",
    "\n",
    "sample_dict = {\n",
    "  'Physics': 82,\n",
    "  'Math': 65,\n",
    "  'history': 75\n",
    "}\n",
    "    \n",
    "Output: Math\n",
    "    \n",
    "```"
   ]
  },
  {
   "cell_type": "code",
   "execution_count": 89,
   "metadata": {},
   "outputs": [
    {
     "name": "stdout",
     "output_type": "stream",
     "text": [
      "Math\n"
     ]
    }
   ],
   "source": [
    "sample_dict = {\n",
    "    'Physics': 82,\n",
    "    'Math': 65,\n",
    "    'history': 75\n",
    "}\n",
    "print(min(sample_dict, key=sample_dict.get))"
   ]
  },
  {
   "cell_type": "markdown",
   "metadata": {},
   "source": [
    "10. Haz un programa que cambie el valor de una clave en un diccionario anidado."
   ]
  },
  {
   "cell_type": "markdown",
   "metadata": {},
   "source": [
    "```\n",
    "Input:\n",
    "\n",
    "sample_dict = {\n",
    "    'emp1': {'name': 'Jhon', 'salary': 7500},\n",
    "    'emp2': {'name': 'Emma', 'salary': 8000},\n",
    "    'emp3': {'name': 'Brad', 'salary': 500}\n",
    "}\n",
    "    \n",
    "Output:\n",
    "\n",
    "{\n",
    "   'emp1': {'name': 'Jhon', 'salary': 7500},\n",
    "   'emp2': {'name': 'Emma', 'salary': 8000},\n",
    "   'emp3': {'name': 'Brad', 'salary': 8500}\n",
    "}\n",
    "    \n",
    "```"
   ]
  },
  {
   "cell_type": "code",
   "execution_count": 90,
   "metadata": {},
   "outputs": [
    {
     "name": "stdout",
     "output_type": "stream",
     "text": [
      "{'emp1': {'name': 'Jhon', 'salary': 7500}, 'emp2': {'name': 'Emma', 'salary': 8000}, 'emp3': {'name': 'Brad', 'salary': 8500}}\n"
     ]
    }
   ],
   "source": [
    "sample_dict = {\n",
    "    'emp1': {'name': 'Jhon', 'salary': 7500},\n",
    "    'emp2': {'name': 'Emma', 'salary': 8000},\n",
    "    'emp3': {'name': 'Brad', 'salary': 6500}\n",
    "}\n",
    "\n",
    "sample_dict['emp3']['salary'] = 8500\n",
    "\n",
    "print(sample_dict)"
   ]
  },
  {
   "cell_type": "markdown",
   "metadata": {},
   "source": [
    "## Sets"
   ]
  },
  {
   "cell_type": "markdown",
   "metadata": {},
   "source": [
    "1. Haz un programa que añada una lista de elementos a un conjunto."
   ]
  },
  {
   "cell_type": "markdown",
   "metadata": {},
   "source": [
    "```\n",
    "Input:\n",
    "\n",
    "{\"Yellow\", \"Orange\", \"Black\"}\n",
    "\n",
    "[\"Blue\", \"Green\", \"Red\"]\n",
    "    \n",
    "Output: {'Black', 'Blue', 'Yellow', 'Green', 'Red', 'Orange'}\n",
    "    \n",
    "```"
   ]
  },
  {
   "cell_type": "code",
   "execution_count": 91,
   "metadata": {},
   "outputs": [
    {
     "name": "stdout",
     "output_type": "stream",
     "text": [
      "{'Black', 'Blue', 'Yellow', 'Green', 'Red', 'Orange'}\n"
     ]
    }
   ],
   "source": [
    "sample_set = {\"Yellow\", \"Orange\", \"Black\"}\n",
    "sample_list = [\"Blue\", \"Green\", \"Red\"]\n",
    "\n",
    "sample_set.update(sample_list)\n",
    "\n",
    "print(sample_set)"
   ]
  },
  {
   "cell_type": "markdown",
   "metadata": {},
   "source": [
    "2. Haz un programa que devuelva un nuevo conjunto de elementos idénticos de dos conjuntos."
   ]
  },
  {
   "cell_type": "markdown",
   "metadata": {},
   "source": [
    "```\n",
    "Input:\n",
    "    \n",
    "set1 = {10, 20, 30, 40, 50}\n",
    "set2 = {30, 40, 50, 60, 70}\n",
    "\n",
    "Output: {40, 50, 30}\n",
    "\n",
    "    \n",
    "```"
   ]
  },
  {
   "cell_type": "code",
   "execution_count": 92,
   "metadata": {},
   "outputs": [
    {
     "name": "stdout",
     "output_type": "stream",
     "text": [
      "{40, 50, 30}\n"
     ]
    }
   ],
   "source": [
    "set1 = {10, 20, 30, 40, 50}\n",
    "set2 = {30, 40, 50, 60, 70}\n",
    "\n",
    "print(set1.intersection(set2))"
   ]
  },
  {
   "cell_type": "markdown",
   "metadata": {},
   "source": [
    "3. Haz un programa que obtenga sólo elementos únicos de dos conjuntos."
   ]
  },
  {
   "cell_type": "markdown",
   "metadata": {},
   "source": [
    "```\n",
    "Input:\n",
    "\n",
    "set1 = {10, 20, 30, 40, 50}\n",
    "set2 = {30, 40, 50, 60, 70}\n",
    "    \n",
    "Output: {70, 40, 10, 50, 20, 60, 30}\n",
    "    \n",
    "```"
   ]
  },
  {
   "cell_type": "code",
   "execution_count": 93,
   "metadata": {},
   "outputs": [
    {
     "name": "stdout",
     "output_type": "stream",
     "text": [
      "{70, 40, 10, 50, 20, 60, 30}\n"
     ]
    }
   ],
   "source": [
    "set1 = {10, 20, 30, 40, 50}\n",
    "set2 = {30, 40, 50, 60, 70}\n",
    "\n",
    "print(set1.union(set2))"
   ]
  },
  {
   "cell_type": "markdown",
   "metadata": {},
   "source": [
    "4. Haz un programa que actualice el primer conjunto con elementos que no existen en el segundo conjunto."
   ]
  },
  {
   "cell_type": "markdown",
   "metadata": {},
   "source": [
    "```\n",
    "Input:\n",
    "\n",
    "set1 = {10, 20, 30}\n",
    "set2 = {20, 40, 50}\n",
    "    \n",
    "Output: set1 {10, 30}\n",
    "    \n",
    "```"
   ]
  },
  {
   "cell_type": "code",
   "execution_count": 94,
   "metadata": {},
   "outputs": [
    {
     "name": "stdout",
     "output_type": "stream",
     "text": [
      "{10, 30}\n"
     ]
    }
   ],
   "source": [
    "set1 = {10, 20, 30}\n",
    "set2 = {20, 40, 50}\n",
    "\n",
    "set1.difference_update(set2)\n",
    "print(set1)"
   ]
  },
  {
   "cell_type": "markdown",
   "metadata": {},
   "source": [
    "5. Haz un programa que elimine elementos del conjunto a la vez."
   ]
  },
  {
   "cell_type": "markdown",
   "metadata": {},
   "source": [
    "```\n",
    "Input: set1 = {10, 20, 30, 40, 50}\n",
    "\n",
    "    \n",
    "Output: {40, 50}\n",
    "\n",
    "    \n",
    "```"
   ]
  },
  {
   "cell_type": "code",
   "execution_count": 95,
   "metadata": {},
   "outputs": [
    {
     "name": "stdout",
     "output_type": "stream",
     "text": [
      "{40, 50}\n"
     ]
    }
   ],
   "source": [
    "set1 = {10, 20, 30, 40, 50}\n",
    "set1.difference_update({10, 20, 30})\n",
    "print(set1)"
   ]
  },
  {
   "cell_type": "markdown",
   "metadata": {},
   "source": [
    "6. Haz un programa que devuelva un conjunto de elementos presentes en el conjunto A o B, pero no en ambos."
   ]
  },
  {
   "cell_type": "markdown",
   "metadata": {},
   "source": [
    "```\n",
    "Input: \n",
    "\n",
    "set1 = {10, 20, 30, 40, 50}\n",
    "set2 = {30, 40, 50, 60, 70}\n",
    "    \n",
    "Output: {20, 70, 10, 60}\n",
    "\n",
    "    \n",
    "```"
   ]
  },
  {
   "cell_type": "code",
   "execution_count": 96,
   "metadata": {},
   "outputs": [
    {
     "name": "stdout",
     "output_type": "stream",
     "text": [
      "{20, 70, 10, 60}\n"
     ]
    }
   ],
   "source": [
    "set1 = {10, 20, 30, 40, 50}\n",
    "set2 = {30, 40, 50, 60, 70}\n",
    "\n",
    "print(set1.symmetric_difference(set2))"
   ]
  },
  {
   "cell_type": "markdown",
   "metadata": {},
   "source": [
    "7. Haz un programa que compruebe si dos conjuntos tienen algún elemento en común. En caso afirmativo, mostrar los elementos comunes."
   ]
  },
  {
   "cell_type": "markdown",
   "metadata": {},
   "source": [
    "```\n",
    "Input:\n",
    "\n",
    "set1 = {10, 20, 30, 40, 50}\n",
    "set2 = {60, 70, 80, 90, 10}\n",
    "    \n",
    "Output: Tienen en común {10}\n",
    "    \n",
    "```"
   ]
  },
  {
   "cell_type": "code",
   "execution_count": 97,
   "metadata": {},
   "outputs": [
    {
     "name": "stdout",
     "output_type": "stream",
     "text": [
      "Tienen elementos en común\n",
      "{10}\n"
     ]
    }
   ],
   "source": [
    "set1 = {10, 20, 30, 40, 50}\n",
    "set2 = {60, 70, 80, 90, 10}\n",
    "\n",
    "if set1.isdisjoint(set2):\n",
    "    print(\"No tienen elementos en común\")\n",
    "else:\n",
    "    print(\"Tienen elementos en común\")\n",
    "    print(set1.intersection(set2))"
   ]
  },
  {
   "cell_type": "markdown",
   "metadata": {},
   "source": [
    "8. Haz un programa que actualice el conjunto1 añadiendo elementos del conjunto2, excepto los elementos comunes."
   ]
  },
  {
   "cell_type": "markdown",
   "metadata": {},
   "source": [
    "```\n",
    "Input:\n",
    "\n",
    "set1 = {10, 20, 30, 40, 50}\n",
    "set2 = {30, 40, 50, 60, 70}\n",
    "    \n",
    "Output: {70, 10, 20, 60}\n",
    "    \n",
    "```"
   ]
  },
  {
   "cell_type": "code",
   "execution_count": 98,
   "metadata": {},
   "outputs": [
    {
     "name": "stdout",
     "output_type": "stream",
     "text": [
      "{70, 10, 20, 60}\n"
     ]
    }
   ],
   "source": [
    "set1 = {10, 20, 30, 40, 50}\n",
    "set2 = {30, 40, 50, 60, 70}\n",
    "\n",
    "set1.symmetric_difference_update(set2)\n",
    "print(set1)"
   ]
  },
  {
   "cell_type": "markdown",
   "metadata": {},
   "source": [
    "9. Haz un programa que actualice el conjunto1 añadiendo elementos del conjunto2, excepto los elementos comunes."
   ]
  },
  {
   "cell_type": "markdown",
   "metadata": {},
   "source": [
    "```\n",
    "Input:\n",
    "\n",
    "set1 = {10, 20, 30, 40, 50}\n",
    "set2 = {30, 40, 50, 60, 70}\n",
    "    \n",
    "Output: {40, 50, 30}\n",
    "\n",
    "    \n",
    "```"
   ]
  },
  {
   "cell_type": "code",
   "execution_count": null,
   "metadata": {},
   "outputs": [],
   "source": [
    "set1 = {10, 20, 30, 40, 50}\n",
    "set2 = {30, 40, 50, 60, 70}\n",
    "\n",
    "set1.intersection_update(set2)\n",
    "print(set1)"
   ]
  }
 ],
 "metadata": {
  "kernelspec": {
   "display_name": "Python 3",
   "language": "python",
   "name": "python3"
  },
  "language_info": {
   "codemirror_mode": {
    "name": "ipython",
    "version": 3
   },
   "file_extension": ".py",
   "mimetype": "text/x-python",
   "name": "python",
   "nbconvert_exporter": "python",
   "pygments_lexer": "ipython3",
   "version": "3.7.3"
  }
 },
 "nbformat": 4,
 "nbformat_minor": 2
}
