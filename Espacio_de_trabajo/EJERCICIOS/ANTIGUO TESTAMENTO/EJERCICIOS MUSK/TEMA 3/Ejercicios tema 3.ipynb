{
 "cells": [
  {
   "cell_type": "markdown",
   "metadata": {},
   "source": [
    "1. Haz un programa que lea un número decimal por pantalla, lo convierta a entero y lo imprima."
   ]
  },
  {
   "cell_type": "markdown",
   "metadata": {},
   "source": [
    "```\n",
    "Input: 4.8\n",
    "    \n",
    "Output: 4\n",
    "    \n",
    "```"
   ]
  },
  {
   "cell_type": "code",
   "execution_count": 3,
   "metadata": {
    "scrolled": true
   },
   "outputs": [
    {
     "name": "stdout",
     "output_type": "stream",
     "text": [
      "Introduce un número decimal: 4.8\n",
      "4\n"
     ]
    }
   ],
   "source": [
    "x = float(input('Introduce un número decimal: '))\n",
    "\n",
    "print(int(x))"
   ]
  },
  {
   "cell_type": "markdown",
   "metadata": {},
   "source": [
    "2. Haz un programa que lea un número decimal por pantalla e imprima su tipo y su valor redondeado en la misma línea."
   ]
  },
  {
   "cell_type": "markdown",
   "metadata": {},
   "source": [
    "```\n",
    "Input: 4.8\n",
    "    \n",
    "Output: \n",
    "Introduce un número decimal: 4.8\n",
    "Tipo: <class 'float'>, redondeo: 5\n",
    "    \n",
    "```"
   ]
  },
  {
   "cell_type": "code",
   "execution_count": 4,
   "metadata": {},
   "outputs": [
    {
     "name": "stdout",
     "output_type": "stream",
     "text": [
      "Introduce un número decimal: 4.8\n",
      "Tipo: <class 'float'>, redondeo: 5\n"
     ]
    }
   ],
   "source": [
    "x = float(input('Introduce un número decimal: '))\n",
    "\n",
    "print('Tipo: {}, redondeo: {}'.format(type(x), round(x)))"
   ]
  },
  {
   "cell_type": "markdown",
   "metadata": {},
   "source": [
    "3. Haz un programa que lea dos números por pantalla e imprima su diferencia en valor absoluto."
   ]
  },
  {
   "cell_type": "markdown",
   "metadata": {},
   "source": [
    "```\n",
    "Input: 14 37\n",
    "    \n",
    "Output: Diferencia entre 14.0 y 37.0 es 23.0\n",
    "    \n",
    "```"
   ]
  },
  {
   "cell_type": "code",
   "execution_count": 5,
   "metadata": {},
   "outputs": [
    {
     "name": "stdout",
     "output_type": "stream",
     "text": [
      "Introduce un número: 14\n",
      "Introduce otro número: 37\n",
      "Diferencia entre 14.0 y 37.0 es 23.0\n"
     ]
    }
   ],
   "source": [
    "x = float(input('Introduce un número: '))\n",
    "y = float(input('Introduce otro número: '))\n",
    "\n",
    "diff = abs(x - y)\n",
    "print('Diferencia entre {} y {} es {}'.format(x, y, diff))"
   ]
  }
 ],
 "metadata": {
  "kernelspec": {
   "display_name": "Python 3",
   "language": "python",
   "name": "python3"
  },
  "language_info": {
   "codemirror_mode": {
    "name": "ipython",
    "version": 3
   },
   "file_extension": ".py",
   "mimetype": "text/x-python",
   "name": "python",
   "nbconvert_exporter": "python",
   "pygments_lexer": "ipython3",
   "version": "3.7.3"
  }
 },
 "nbformat": 4,
 "nbformat_minor": 2
}
