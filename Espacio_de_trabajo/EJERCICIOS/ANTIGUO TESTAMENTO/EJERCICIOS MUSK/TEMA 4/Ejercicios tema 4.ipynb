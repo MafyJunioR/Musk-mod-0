{
 "cells": [
  {
   "cell_type": "markdown",
   "metadata": {},
   "source": [
    "## Condicionales"
   ]
  },
  {
   "cell_type": "markdown",
   "metadata": {},
   "source": [
    "1. Haz un programa que lea dos palabras y que indique el orden lexicográfico. Escribe en una línea indicando si a < b, a > b o a = b. Ejemplo: a = Anna, b = Javier, Anna < Javier."
   ]
  },
  {
   "cell_type": "markdown",
   "metadata": {},
   "source": [
    "```\n",
    "Input: 'Anna' 'Javier'\n",
    "    \n",
    "output: Anna < Javier\n",
    "    \n",
    "```"
   ]
  },
  {
   "cell_type": "code",
   "execution_count": 6,
   "metadata": {},
   "outputs": [
    {
     "name": "stdout",
     "output_type": "stream",
     "text": [
      "Introduce una palabra:Anna\n",
      "Introduce una palabra:Javier\n",
      "Anna < Javier\n"
     ]
    }
   ],
   "source": [
    "a = input('Introduce una palabra:')\n",
    "b = input('Introduce una palabra:')\n",
    "\n",
    "if a < b:\n",
    "    print('{} < {}'.format(a, b))\n",
    "else:\n",
    "    print('{} < {}'.format(b, a))"
   ]
  },
  {
   "cell_type": "markdown",
   "metadata": {},
   "source": [
    "2. Haz un programa que lea una letra y que indique por pantalla si es una mayúscula, si es una minúscula, si es una vocal, y si es una consonante."
   ]
  },
  {
   "cell_type": "markdown",
   "metadata": {},
   "source": [
    "```\n",
    "Input: 'Z'\n",
    "\n",
    "Output:\n",
    "    \n",
    "Z es consonante\n",
    "Z es mayuscula\n",
    "\n",
    "```"
   ]
  },
  {
   "cell_type": "code",
   "execution_count": 7,
   "metadata": {},
   "outputs": [
    {
     "name": "stdout",
     "output_type": "stream",
     "text": [
      "Introduce una letra:Z\n",
      "Z es consonante\n",
      "Z es mayuscula\n"
     ]
    }
   ],
   "source": [
    "c = input('Introduce una letra:')\n",
    "\n",
    "if c == 'a' or c == 'e' or c == 'i' or c == 'o' or c == 'u':\n",
    "    print('{} es vocal'.format(c))\n",
    "else:\n",
    "    print('{} es consonante'.format(c))\n",
    "    \n",
    "if c.islower():\n",
    "    print('{} es minúscula'.format(c))\n",
    "else:\n",
    "    print('{} es mayuscula'.format(c))\n"
   ]
  },
  {
   "cell_type": "markdown",
   "metadata": {},
   "source": [
    "3. Haz un programa que lea un entero que representa una temperatura en grados Celsius, y que diga si hace calor, si hace frío, o si se está bien. Suponed que hace calor si la temperatura es más alta que 30 grados, que hace frío si es más baja que 10 grados, y que se está bien en otro caso."
   ]
  },
  {
   "cell_type": "markdown",
   "metadata": {},
   "source": [
    "```\n",
    "Input: 25\n",
    "\n",
    "Output: 'Se está bien'\n",
    "```"
   ]
  },
  {
   "cell_type": "code",
   "execution_count": 9,
   "metadata": {},
   "outputs": [
    {
     "name": "stdout",
     "output_type": "stream",
     "text": [
      "Introduce un número:25\n",
      "Se está bien\n"
     ]
    }
   ],
   "source": [
    "x = float(input('Introduce un número:'))\n",
    "\n",
    "if x > 30:\n",
    "    print('Hace calor')\n",
    "elif x < 10:\n",
    "    print('Hace frio')\n",
    "else:\n",
    "    print('Se está bien')"
   ]
  },
  {
   "cell_type": "markdown",
   "metadata": {},
   "source": [
    "4. Haz un programa que, dados dos intervalos, calcule el intervalo correspondiente a la intersección o indique que esta es vacía."
   ]
  },
  {
   "cell_type": "markdown",
   "metadata": {},
   "source": [
    "```\n",
    "Input:\n",
    "\n",
    "20 30\n",
    "\n",
    "10 20\n",
    "\n",
    "Output: [20, 20]\n",
    "```"
   ]
  },
  {
   "cell_type": "code",
   "execution_count": 10,
   "metadata": {},
   "outputs": [
    {
     "name": "stdout",
     "output_type": "stream",
     "text": [
      "Introduce el extermo izquierdo del primer intervalo:20\n",
      "Introduce el derecho izquierdo del primer intervalo:30\n",
      "Introduce el extermo izquierdo del segundo intervalo:10\n",
      "Introduce el extermo derecho del segundo intervalo:20\n",
      "[20, 20]\n"
     ]
    }
   ],
   "source": [
    "x1 = int(input('Introduce el extermo izquierdo del primer intervalo:'))\n",
    "y1 = int(input('Introduce el derecho izquierdo del primer intervalo:'))\n",
    "\n",
    "x2 = int(input('Introduce el extermo izquierdo del segundo intervalo:'))\n",
    "y2 = int(input('Introduce el extermo derecho del segundo intervalo:'))\n",
    "\n",
    "minimo = x1\n",
    "if x2 > x1:\n",
    "    minimo = x2\n",
    "    \n",
    "maximo = y1\n",
    "if y2 < y1:\n",
    "    maximo = y2\n",
    "    \n",
    "if minimo <= maximo:\n",
    "    print('[{}, {}]'.format(minimo, maximo))\n",
    "else:\n",
    "    print('[]')"
   ]
  },
  {
   "cell_type": "markdown",
   "metadata": {},
   "source": [
    "5. Haz un programa que indique si un año es bisiesto o no. Un año bisiesto tiene 366 días. Después de la reforma gregoriana, los años bisiestos son los múltiplos de cuatro que no acaban en dos ceros, y también los acabados en dos ceros tales que el número que queda después de sacar los dos ceros finales es divisible por cuatro. Así, 1800 y 1900, a pesar de ser múltiples de cuatro, no fueran bisiestos; en cambio, 2000 lo fue."
   ]
  },
  {
   "cell_type": "markdown",
   "metadata": {},
   "source": [
    "```\n",
    "Input: 2000\n",
    "\n",
    "Output: 'Bisiesto'\n",
    "```"
   ]
  },
  {
   "cell_type": "code",
   "execution_count": 11,
   "metadata": {},
   "outputs": [
    {
     "name": "stdout",
     "output_type": "stream",
     "text": [
      "Introduce un año:2000\n",
      "Bisiesto\n"
     ]
    }
   ],
   "source": [
    "x = int(input('Introduce un año:'))\n",
    "\n",
    "# Múltiplo de 4\n",
    "# No termina en dos ceros\n",
    "# Divisible por 4 omitiendo las dos últimas cifras\n",
    "\n",
    "if x % 4 == 0 and (x % 100 != 0 or x % 400 == 0):\n",
    "    print('Bisiesto')\n",
    "else:\n",
    "    print('No bisiesto')"
   ]
  },
  {
   "cell_type": "markdown",
   "metadata": {},
   "source": [
    "6. Haz un programa que añada un segundo en una hora del día, dadas sus horas, minutos y segundos."
   ]
  },
  {
   "cell_type": "markdown",
   "metadata": {},
   "source": [
    "```\n",
    "Input:\n",
    "\n",
    "3\n",
    "5\n",
    "59\n",
    "\n",
    "Output: h: 3, m: 6, s: 0\n",
    "\n",
    "```"
   ]
  },
  {
   "cell_type": "code",
   "execution_count": 12,
   "metadata": {},
   "outputs": [
    {
     "name": "stdout",
     "output_type": "stream",
     "text": [
      "Introduce las horas:3\n",
      "Introduce los minutos:5\n",
      "Introduce los segundos:59\n",
      "h: 3, m: 6, s: 0\n"
     ]
    }
   ],
   "source": [
    "# Recuerda que h<24, m<60 i s<60\n",
    "\n",
    "h = int(input('Introduce las horas:'))\n",
    "m = int(input('Introduce los minutos:'))\n",
    "s = int(input('Introduce los segundos:'))\n",
    "\n",
    "if s + 1 > 59:\n",
    "    s = 0\n",
    "    m += 1\n",
    "    if m > 59:\n",
    "        m = 0\n",
    "        h += 1\n",
    "else:\n",
    "    s += 1\n",
    "        \n",
    "print('h: {}, m: {}, s: {}'.format(h, m, s))"
   ]
  },
  {
   "cell_type": "markdown",
   "metadata": {},
   "source": [
    "7. Haz un programa que lea un real x≥0 y que escriba ⌊x⌋ (la parte entera inferior de x), ⌈x⌉ (la parte entera superior de x), y el redondeo de x."
   ]
  },
  {
   "cell_type": "markdown",
   "metadata": {},
   "source": [
    "```\n",
    "Input: 4.8\n",
    "    \n",
    "Output: ⌊x⌋: 4, ⌈x⌉: 5, redondeo: 5\n",
    "\n",
    "```"
   ]
  },
  {
   "cell_type": "code",
   "execution_count": 13,
   "metadata": {},
   "outputs": [
    {
     "name": "stdout",
     "output_type": "stream",
     "text": [
      "Introduce un número decimal:4.8\n",
      "⌊x⌋: 4, ⌈x⌉: 5, redondeo: 5\n"
     ]
    }
   ],
   "source": [
    "x = float(input('Introduce un número decimal:'))\n",
    "x_int = int(x)\n",
    "\n",
    "if x == x_int:\n",
    "    print(x)\n",
    "else:\n",
    "    parte_inferior = x_int\n",
    "    parte_superior = x_int + 1\n",
    "    redondeo = int(x + 0.5)\n",
    "    print('⌊x⌋: {}, ⌈x⌉: {}, redondeo: {}'.format(parte_inferior, parte_superior, redondeo))"
   ]
  },
  {
   "cell_type": "markdown",
   "metadata": {},
   "source": [
    "## Bucles"
   ]
  },
  {
   "cell_type": "markdown",
   "metadata": {},
   "source": [
    "1. Haz un programa que lea dos números a y b, y que escriba todos los números enteros a y b. Debe cumplirse que a < b. En caso que a > b, escribe los número de manera descendente."
   ]
  },
  {
   "cell_type": "markdown",
   "metadata": {},
   "source": [
    "```\n",
    "Input: 10 4\n",
    "\n",
    "Output:\n",
    "\n",
    "10\n",
    "9\n",
    "8\n",
    "7\n",
    "6\n",
    "5\n",
    "4\n",
    "\n",
    "```"
   ]
  },
  {
   "cell_type": "code",
   "execution_count": 21,
   "metadata": {
    "scrolled": true
   },
   "outputs": [
    {
     "name": "stdout",
     "output_type": "stream",
     "text": [
      "Introduce un número:10\n",
      "Introduce un número:4\n",
      "10\n",
      "9\n",
      "8\n",
      "7\n",
      "6\n",
      "5\n",
      "4\n"
     ]
    }
   ],
   "source": [
    "x = int(input('Introduce un número:'))\n",
    "y = int(input('Introduce un número:'))\n",
    "\n",
    "if x < y:\n",
    "    for i in range(x, y + 1):\n",
    "        print(i)\n",
    "else:\n",
    "    for i in range(x, y - 1, -1):\n",
    "        print(i)\n"
   ]
  },
  {
   "cell_type": "markdown",
   "metadata": {},
   "source": [
    "2. Haz un programa que lea una secuencia de 10 números y que escriba la media."
   ]
  },
  {
   "cell_type": "markdown",
   "metadata": {},
   "source": [
    "```\n",
    "Input: 1 2 3 4 5 6 7 8 9 10\n",
    "\n",
    "Output: 'Media: 5.5'\n",
    "```"
   ]
  },
  {
   "cell_type": "code",
   "execution_count": 24,
   "metadata": {},
   "outputs": [
    {
     "name": "stdout",
     "output_type": "stream",
     "text": [
      "Introduce un número: 1\n",
      "Introduce un número: 2\n",
      "Introduce un número: 3\n",
      "Introduce un número: 4\n",
      "Introduce un número: 5\n",
      "Introduce un número: 6\n",
      "Introduce un número: 7\n",
      "Introduce un número: 8\n",
      "Introduce un número: 9\n",
      "Introduce un número: 10\n",
      "Media: 5.5\n"
     ]
    }
   ],
   "source": [
    "suma = 0\n",
    "for i in range(0, 10):\n",
    "    x = int(input('Introduce un número: '))\n",
    "    suma += x\n",
    "print('Media: {}'.format(suma / 10))"
   ]
  },
  {
   "cell_type": "markdown",
   "metadata": {},
   "source": [
    "3. Haz un programa que dada una lista de naturales de tamaño n, indique la posición del primer número par."
   ]
  },
  {
   "cell_type": "markdown",
   "metadata": {},
   "source": [
    "```\n",
    "Input:\n",
    "\n",
    "4\n",
    "\n",
    "3\n",
    "5\n",
    "8\n",
    "\n",
    "Output: Primero numero par 8 en la posición: 2\n",
    "```"
   ]
  },
  {
   "cell_type": "code",
   "execution_count": 25,
   "metadata": {},
   "outputs": [
    {
     "name": "stdout",
     "output_type": "stream",
     "text": [
      "Introduce el tamaño de la secuencia a leer: 4\n",
      "Introduce un número:3\n",
      "Introduce un número:5\n",
      "Introduce un número:8\n",
      "Primero numero par 8 en la posición: 2\n"
     ]
    }
   ],
   "source": [
    "n = int(input('Introduce el tamaño de la secuencia a leer: '))\n",
    "\n",
    "if n > 0:\n",
    "    for i in range(0, n):\n",
    "        x = int(input('Introduce un número:'))\n",
    "        if x % 2 == 0:\n",
    "            print('Primer numero par {} en la posición: {}'.format(x, i))\n",
    "            # Paramos de leer la secuencia ya que hemos resuelto el problema\n",
    "            break"
   ]
  },
  {
   "cell_type": "markdown",
   "metadata": {},
   "source": [
    "4. Haz un programa que lea un número n y que escriba la “tabla de multiplicar” de n."
   ]
  },
  {
   "cell_type": "markdown",
   "metadata": {},
   "source": [
    "```\n",
    "Input: 4\n",
    "\n",
    "Output:\n",
    "\n",
    "4 x 0 = 0\n",
    "4 x 1 = 4\n",
    "4 x 2 = 8\n",
    "4 x 3 = 12\n",
    "4 x 4 = 16\n",
    "4 x 5 = 20\n",
    "4 x 6 = 24\n",
    "4 x 7 = 28\n",
    "4 x 8 = 32\n",
    "4 x 9 = 36\n",
    "4 x 10 = 40\n",
    "\n",
    "```"
   ]
  },
  {
   "cell_type": "code",
   "execution_count": 27,
   "metadata": {},
   "outputs": [
    {
     "name": "stdout",
     "output_type": "stream",
     "text": [
      "Introduce un número: 4\n",
      "4 x 0 = 0\n",
      "4 x 1 = 4\n",
      "4 x 2 = 8\n",
      "4 x 3 = 12\n",
      "4 x 4 = 16\n",
      "4 x 5 = 20\n",
      "4 x 6 = 24\n",
      "4 x 7 = 28\n",
      "4 x 8 = 32\n",
      "4 x 9 = 36\n",
      "4 x 10 = 40\n"
     ]
    }
   ],
   "source": [
    "n = int(input('Introduce un número: '))\n",
    "\n",
    "# Vamos hasta 11 para poder tratar el 10\n",
    "for i in range(0, 11):\n",
    "    print('{} x {} = {}'.format(n, i, n * i))"
   ]
  },
  {
   "cell_type": "markdown",
   "metadata": {},
   "source": [
    "5. Haz un programa que lea un número y que lo escriba del revés."
   ]
  },
  {
   "cell_type": "markdown",
   "metadata": {},
   "source": [
    "```\n",
    "Input: 456\n",
    "\n",
    "Output: 654\n",
    "```"
   ]
  },
  {
   "cell_type": "code",
   "execution_count": 31,
   "metadata": {},
   "outputs": [
    {
     "name": "stdout",
     "output_type": "stream",
     "text": [
      "Introduce un número: 654\n",
      "456\n"
     ]
    }
   ],
   "source": [
    "n = int(input('Introduce un número: '))\n",
    "\n",
    "n_reves = ''\n",
    "while n > 0:\n",
    "    # Cogemos el último dígito\n",
    "    n_reves += str(n % 10)\n",
    "    \n",
    "    # Recortamos el número eliminando el último dígito\n",
    "    n = n // 10\n",
    "    \n",
    "print(n_reves)"
   ]
  },
  {
   "cell_type": "markdown",
   "metadata": {},
   "source": [
    "6. Haz un programa que lea un número y que escriba el número de dígitos."
   ]
  },
  {
   "cell_type": "markdown",
   "metadata": {},
   "source": [
    "```\n",
    "Input: 45678\n",
    "\n",
    "Output: '45678 tiene 5 dígitos'\n",
    "```"
   ]
  },
  {
   "cell_type": "code",
   "execution_count": 34,
   "metadata": {},
   "outputs": [
    {
     "name": "stdout",
     "output_type": "stream",
     "text": [
      "Introduce un número: 45678\n",
      "45678 tiene 5 dígitos\n"
     ]
    }
   ],
   "source": [
    "n = int(input('Introduce un número: '))\n",
    "x = n\n",
    "cont = 0\n",
    "while n > 0:\n",
    "    n = n // 10\n",
    "    cont += 1\n",
    "    \n",
    "print('{} tiene {} dígitos'.format(x, cont))"
   ]
  },
  {
   "cell_type": "markdown",
   "metadata": {},
   "source": [
    "7. Haz un programa que diga si un natural n es capicua o no."
   ]
  },
  {
   "cell_type": "markdown",
   "metadata": {},
   "source": [
    "```\n",
    "Input: 343\n",
    "\n",
    "Output: '343 es capicua'\n",
    "\n",
    "```"
   ]
  },
  {
   "cell_type": "code",
   "execution_count": 44,
   "metadata": {},
   "outputs": [
    {
     "name": "stdout",
     "output_type": "stream",
     "text": [
      "Introduce un número: 3\n",
      "3 es capicua\n"
     ]
    }
   ],
   "source": [
    "n = int(input('Introduce un número: '))\n",
    "x = str(n)\n",
    "\n",
    "i = 0\n",
    "j = len(x) - 1\n",
    "\n",
    "while i < len(x)-1 and j > 0 and x[i] == x[j]:\n",
    "    i += 1\n",
    "    j -= 1\n",
    "    \n",
    "if j == 0 and i == len(x) - 1:\n",
    "    print('{} es capicua'.format(n))\n",
    "else:\n",
    "    print('{} no es capicua'.format(n))\n",
    "    "
   ]
  },
  {
   "cell_type": "markdown",
   "metadata": {},
   "source": [
    "8. Haz un programa que dada una secuencia de años acabada en 0 nos diga cuántos hay del siglo 20."
   ]
  },
  {
   "cell_type": "markdown",
   "metadata": {},
   "source": [
    "```\n",
    "Input: 1950 1900 2000 1910 1800 0\n",
    "\n",
    "Output: Existen 3 años que pertenecen al siglo XX\n",
    "\n",
    "```"
   ]
  },
  {
   "cell_type": "code",
   "execution_count": 49,
   "metadata": {},
   "outputs": [
    {
     "name": "stdout",
     "output_type": "stream",
     "text": [
      "Introduce un año: 1950\n",
      "Introduce un año: 1900\n",
      "Introduce un año: 2000\n",
      "Introduce un año: 1910\n",
      "Introduce un año: 1800\n",
      "Introduce un año: 0\n",
      "Existen 3 años que pertenecen al siglo XX\n"
     ]
    }
   ],
   "source": [
    "x = int(input('Introduce un año: '))\n",
    "count = 0\n",
    "while x != 0:\n",
    "    # Eliminamos los dos últimos dígitos\n",
    "    s = x // 100\n",
    "    \n",
    "    if s + 1 == 20:\n",
    "        count += 1\n",
    "    x = int(input('Introduce un año: '))\n",
    "    \n",
    "print('Existen {} años que pertenecen al siglo XX'.format(count))\n",
    "    "
   ]
  },
  {
   "cell_type": "markdown",
   "metadata": {},
   "source": [
    "9. Haz un programa que reciba una secuencia de naturales de tamaño n y nos devuelva cuál es el primer natural que tiene un valor inferior al primer natural leído."
   ]
  },
  {
   "cell_type": "markdown",
   "metadata": {},
   "source": [
    "```\n",
    "Input: \n",
    "\n",
    "5\n",
    "\n",
    "3 4 1 6 7\n",
    "\n",
    "Output: El primer natural inferior a 3 es 1\n",
    "\n",
    "```"
   ]
  },
  {
   "cell_type": "code",
   "execution_count": 52,
   "metadata": {},
   "outputs": [
    {
     "name": "stdout",
     "output_type": "stream",
     "text": [
      "Introduce el tamaño de la secuencia a leer: 5\n",
      "Introduce un número: 3\n",
      "Introduce un número: 4\n",
      "Introduce un número: 1\n",
      "El primer natural inferior a 3 es 1\n"
     ]
    }
   ],
   "source": [
    "n = int(input('Introduce el tamaño de la secuencia a leer: '))\n",
    "\n",
    "primer_natural = -1\n",
    "for i in range(0, n):\n",
    "    x = int(input('Introduce un número: '))\n",
    "    if i == 0:\n",
    "        # Nos guardamos el primer natural leído\n",
    "        primer_natural = x\n",
    "    elif x < primer_natural:\n",
    "        print('El primer natural inferior a {} es {}'.format(primer_natural, x))\n",
    "        \n",
    "        # Hemos resuelto el problema así que no es necesario continuar leyendo la secuencia\n",
    "        break"
   ]
  },
  {
   "cell_type": "markdown",
   "metadata": {},
   "source": [
    "10. Haz un programa que cuente cuántos valores hay en una secuencia de enteros acabada en 0."
   ]
  },
  {
   "cell_type": "markdown",
   "metadata": {},
   "source": [
    "```\n",
    "Input: 1 2 3 4 0\n",
    "\n",
    "Output: La secuencia tiene 4 elementos\n",
    "\n",
    "```"
   ]
  },
  {
   "cell_type": "code",
   "execution_count": 54,
   "metadata": {},
   "outputs": [
    {
     "name": "stdout",
     "output_type": "stream",
     "text": [
      "Introduce un número: 1\n",
      "Introduce un número: 2\n",
      "Introduce un número: 3\n",
      "Introduce un número: 4\n",
      "Introduce un número: 0\n",
      "La secuencia tiene 4 elementos\n"
     ]
    }
   ],
   "source": [
    "x = int(input('Introduce un número: '))\n",
    "\n",
    "cont = 0\n",
    "while x != 0:\n",
    "    cont += 1\n",
    "    x = int(input('Introduce un número: '))\n",
    "    \n",
    "print('La secuencia tiene {} elementos'.format(cont))"
   ]
  },
  {
   "cell_type": "markdown",
   "metadata": {},
   "source": [
    "11. Haz un programa que devuelva el máximo de una secuencia de temperaturas acabada en 1000."
   ]
  },
  {
   "cell_type": "markdown",
   "metadata": {},
   "source": [
    "```\n",
    "Input: 45 34 23 34 50 35 1000\n",
    "    \n",
    "Output: El máximo de la secuencia es 50\n",
    "    \n",
    "```"
   ]
  },
  {
   "cell_type": "code",
   "execution_count": 55,
   "metadata": {},
   "outputs": [
    {
     "name": "stdout",
     "output_type": "stream",
     "text": [
      "Introduce un número: 45\n",
      "Introduce un número: 34\n",
      "Introduce un número: 23\n",
      "Introduce un número: 34\n",
      "Introduce un número: 50\n",
      "Introduce un número: 35\n",
      "Introduce un número: 1000\n",
      "El máximo de la secuencia es 50\n"
     ]
    }
   ],
   "source": [
    "x = int(input('Introduce un número: '))\n",
    "\n",
    "valor_max = -1\n",
    "while x != 1000:\n",
    "    if x > valor_max:\n",
    "        valor_max = x\n",
    "    x = int(input('Introduce un número: '))\n",
    "    \n",
    "print('El máximo de la secuencia es {}'.format(valor_max))"
   ]
  },
  {
   "cell_type": "markdown",
   "metadata": {},
   "source": [
    "12. Haz un programa que dada una secuencia de valores acabada en 0 compruebe que ningún valor supera 50."
   ]
  },
  {
   "cell_type": "markdown",
   "metadata": {},
   "source": [
    "```\n",
    "Input: 30 50 40 51\n",
    "    \n",
    "Output: 'Existe un elemento en la secuencia que supera el valor 50'\n",
    "    \n",
    "```"
   ]
  },
  {
   "cell_type": "code",
   "execution_count": 58,
   "metadata": {},
   "outputs": [
    {
     "name": "stdout",
     "output_type": "stream",
     "text": [
      "Introduce un número: 30\n",
      "Introduce un número: 50\n",
      "Introduce un número: 40\n",
      "Introduce un número: 51\n",
      "Existe un elemento en la secuencia que supera el valor 50\n"
     ]
    }
   ],
   "source": [
    "x = int(input('Introduce un número: '))\n",
    "\n",
    "hay_50 = False\n",
    "while x != 0:\n",
    "    if x > 50:\n",
    "        hay_50 = True\n",
    "        break\n",
    "    x = int(input('Introduce un número: '))\n",
    "    \n",
    "if hay_50:\n",
    "    print('Existe un elemento en la secuencia que supera el valor 50')\n",
    "else:\n",
    "    print('Ningún elemento en la secuencia supera el valor 50')"
   ]
  },
  {
   "cell_type": "markdown",
   "metadata": {},
   "source": [
    "13. Haz un programa que dada una secuencia de valores acabada en 0 compruebe que ningún valor supera 50 y que no hay más de tres que superen 40."
   ]
  },
  {
   "cell_type": "markdown",
   "metadata": {},
   "source": [
    "```\n",
    "Input: 50 43 42 21 0\n",
    "    \n",
    "Output:\n",
    "    \n",
    "Ningún elemento en la secuencia supera el valor 50\n",
    "No existen mas de tres elementos en la secuencia que superan el valor 40\n",
    "    \n",
    "```"
   ]
  },
  {
   "cell_type": "code",
   "execution_count": 60,
   "metadata": {},
   "outputs": [
    {
     "name": "stdout",
     "output_type": "stream",
     "text": [
      "Introduce un número: 50\n",
      "Introduce un número: 43\n",
      "Introduce un número: 42\n",
      "Introduce un número: 21\n",
      "Introduce un número: 0\n",
      "Ningún elemento en la secuencia supera el valor 50\n",
      "No existen mas de tres elementos en la secuencia que superan el valor 40\n"
     ]
    }
   ],
   "source": [
    "x = int(input('Introduce un número: '))\n",
    "\n",
    "hay_50 = False\n",
    "supera_40 = False\n",
    "count = 0\n",
    "\n",
    "while x != 0:\n",
    "    if x > 50:\n",
    "        hay_50 = True\n",
    "        break\n",
    "        \n",
    "    if x > 40:\n",
    "        count += 1\n",
    "        \n",
    "    if count > 3:\n",
    "        supera_40 = True\n",
    "        break\n",
    "        \n",
    "    x = int(input('Introduce un número: '))\n",
    "    \n",
    "if hay_50:\n",
    "    print('Existe un elemento en la secuencia que supera el valor 50')\n",
    "else:\n",
    "    print('Ningún elemento en la secuencia supera el valor 50')\n",
    "    \n",
    "if supera_40:\n",
    "    print('Existen mas de tres elementos en la secuencia que superan el valor 40')\n",
    "else:\n",
    "    print('No existen mas de tres elementos en la secuencia que superan el valor 40')"
   ]
  },
  {
   "cell_type": "markdown",
   "metadata": {},
   "source": [
    "14. Haz un programa que dada una secuencia de valores acabada en 0 diga si hay más positivos o negativos."
   ]
  },
  {
   "cell_type": "markdown",
   "metadata": {},
   "source": [
    "```\n",
    "Input: -1 2 -4 5 6 0\n",
    "    \n",
    "Output: Existe un número mayor de positivos que de negativos en la secuencia.\n",
    "    \n",
    "```"
   ]
  },
  {
   "cell_type": "code",
   "execution_count": 62,
   "metadata": {},
   "outputs": [
    {
     "name": "stdout",
     "output_type": "stream",
     "text": [
      "Introduce un número: -1\n",
      "Introduce un número: 2\n",
      "Introduce un número: -4\n",
      "Introduce un número: 5\n",
      "Introduce un número: 6\n",
      "Introduce un número: 0\n",
      "Existe un número mayor de positivos que de negativos en la secuencia.\n"
     ]
    }
   ],
   "source": [
    "x = int(input('Introduce un número: '))\n",
    "\n",
    "cont_pos = 0\n",
    "cont_neg = 0\n",
    "\n",
    "while x != 0:\n",
    "    if x > 0:\n",
    "        cont_pos += 1\n",
    "    else:\n",
    "        cont_neg += 1\n",
    "\n",
    "    x = int(input('Introduce un número: '))\n",
    "    \n",
    "if cont_pos > cont_neg:\n",
    "    print('Existe un número mayor de positivos que de negativos en la secuencia.')\n",
    "elif cont_pos == cont_neg:\n",
    "    print('Existe el mismo número de positivos que de negativos en la secuencia.')\n",
    "else:\n",
    "    print('Existe un número mayor de negativos que de positivos en la secuencia.')"
   ]
  },
  {
   "cell_type": "markdown",
   "metadata": {},
   "source": [
    "15. Haz un programa que dada una secuencia de valores enteros acabada en 0 diga cuál es el número que hay antes de primer negativo encontrado."
   ]
  },
  {
   "cell_type": "markdown",
   "metadata": {},
   "source": [
    "```\n",
    "Input: 4 -1\n",
    "    \n",
    "Output: 4\n",
    "    \n",
    "```"
   ]
  },
  {
   "cell_type": "code",
   "execution_count": 67,
   "metadata": {},
   "outputs": [
    {
     "name": "stdout",
     "output_type": "stream",
     "text": [
      "Introduce un número: 4\n",
      "Introduce un número: -1\n",
      "El primer número previo al primer negativo es 4\n"
     ]
    }
   ],
   "source": [
    "x = int(input('Introduce un número: '))\n",
    "\n",
    "num_prev = None\n",
    "\n",
    "while x != 0:\n",
    "    if x < 0:\n",
    "        break\n",
    "        \n",
    "    y = int(input('Introduce un número: '))\n",
    "    num_prev = x\n",
    "    x = y\n",
    "    \n",
    "if num_prev is not None:\n",
    "    print('El primer número previo al primer negativo es {}'.format(num_prev))\n",
    "# Puede ser que el primer número de la secuencia sea negativo\n",
    "else:\n",
    "    print('No existen número previos al primer negativo')\n",
    "    "
   ]
  },
  {
   "cell_type": "markdown",
   "metadata": {},
   "source": [
    "16. Haz un programa que dada una secuencia de valores enteros acabada en 0 diga cuántos son múltiples del primero."
   ]
  },
  {
   "cell_type": "markdown",
   "metadata": {},
   "source": [
    "```\n",
    "Input: 3 9 12 4 0\n",
    "    \n",
    "Output: 'Existen 2 múltiples de 3'\n",
    "    \n",
    "```"
   ]
  },
  {
   "cell_type": "code",
   "execution_count": 71,
   "metadata": {},
   "outputs": [
    {
     "name": "stdout",
     "output_type": "stream",
     "text": [
      "Introduce un número: 3\n",
      "Introduce un número: 9\n",
      "Introduce un número: 12\n",
      "Introduce un número: 4\n",
      "Introduce un número: 0\n",
      "Existen 2 múltiples de 3\n"
     ]
    }
   ],
   "source": [
    "x = int(input('Introduce un número: '))\n",
    "\n",
    "primer_num = -1\n",
    "cont = 0\n",
    "cont_multiples = 0\n",
    "\n",
    "while x != 0:\n",
    "    if cont == 0:\n",
    "        primer_num = x\n",
    "        cont += 1\n",
    "    elif x % primer_num == 0:\n",
    "        cont_multiples += 1\n",
    "        \n",
    "    x = int(input('Introduce un número: '))\n",
    "\n",
    "print('Existen {} múltiples de {}'.format(cont_multiples, primer_num))\n",
    "   "
   ]
  },
  {
   "cell_type": "markdown",
   "metadata": {},
   "source": [
    "17. Haz un programa que lea varias descripciones de rectángulos y de círculos, y que para cada una escriba el área correspondiente. La entrada empieza con un número n, seguido de n descripciones. Si es de un rectángulo, se tiene la palabra “rectángulo” seguida de dos reales estrictamente positivos que indican la longitud y la anchura. Si es de un círculo, se tiene la palabra “círculo” seguida de un real estrictamente positivo que indica el radio."
   ]
  },
  {
   "cell_type": "markdown",
   "metadata": {},
   "source": [
    "```\n",
    "Input:\n",
    "    \n",
    "2\n",
    "rectangulo\n",
    "10 5\n",
    "circulo\n",
    "4\n",
    "    \n",
    "Output:\n",
    "    \n",
    "El rectangulo tiene area 50.0\n",
    "El circulo tiene area 50.26548245743669\n",
    "    \n",
    "```"
   ]
  },
  {
   "cell_type": "code",
   "execution_count": 73,
   "metadata": {},
   "outputs": [
    {
     "name": "stdout",
     "output_type": "stream",
     "text": [
      "Introduce la longitud de la secuencia: 2\n",
      "Introduce el nombre del polígono: rectangulo\n",
      "Introduce la longitud del rectángulo: 10\n",
      "Introduce la anchura del rectángulo: 5\n",
      "El rectangulo tiene area 50.0\n",
      "Introduce el nombre del polígono: circulo\n",
      "Introduce el radio del círculo: 4\n",
      "El circulo tiene area 50.26548245743669\n"
     ]
    }
   ],
   "source": [
    "import math\n",
    "\n",
    "n = int(input('Introduce la longitud de la secuencia: '))\n",
    "\n",
    "for i in range(0, n):\n",
    "    fig = input('Introduce el nombre del polígono: ')\n",
    "    area = 0\n",
    "    \n",
    "    if fig == 'rectangulo':\n",
    "        longitud = float(input('Introduce la longitud del rectángulo: '))\n",
    "        anchura = float(input('Introduce la anchura del rectángulo: '))\n",
    "        area = longitud * anchura\n",
    "        \n",
    "    elif fig == 'circulo':\n",
    "        radio = float(input('Introduce el radio del círculo: '))\n",
    "        area = pow(radio, 2) * math.pi\n",
    "        \n",
    "    print('El {} tiene area {}'.format(fig, area))"
   ]
  },
  {
   "cell_type": "markdown",
   "metadata": {},
   "source": [
    "18. Haz un programa que lea un natural n, y que escriba el resultado de la suma siguiente: 1^2 + 2^2 + … + (n−1)^2 + n^2 y el aspecto de la secuencia. "
   ]
  },
  {
   "cell_type": "markdown",
   "metadata": {},
   "source": [
    "```\n",
    "Input: 4\n",
    "    \n",
    "Output: 'El resultado de la secuencia 0^2 + 1^2  + 2^2  + 3^2  + 4^2  es 30'\n",
    "    \n",
    "```"
   ]
  },
  {
   "cell_type": "code",
   "execution_count": 74,
   "metadata": {},
   "outputs": [
    {
     "name": "stdout",
     "output_type": "stream",
     "text": [
      "Introduce la longitud de la secuencia: 4\n",
      "El resultado de la secuencia 0^2 + 1^2  + 2^2  + 3^2  + 4^2  es 30\n"
     ]
    }
   ],
   "source": [
    "n = int(input('Introduce la longitud de la secuencia: '))\n",
    "\n",
    "suma = 0\n",
    "secuencia = None\n",
    "for i in range(0, n + 1):\n",
    "    suma += pow(i, 2)\n",
    "    \n",
    "    if i == 0:\n",
    "        secuencia = '{}^{}'.format(i, 2)\n",
    "    else:\n",
    "        secuencia += ' + {}^{} '.format(i, 2)\n",
    "    \n",
    "print('El resultado de la secuencia {} es {}'.format(secuencia, suma))"
   ]
  }
 ],
 "metadata": {
  "kernelspec": {
   "display_name": "Python 3",
   "language": "python",
   "name": "python3"
  },
  "language_info": {
   "codemirror_mode": {
    "name": "ipython",
    "version": 3
   },
   "file_extension": ".py",
   "mimetype": "text/x-python",
   "name": "python",
   "nbconvert_exporter": "python",
   "pygments_lexer": "ipython3",
   "version": "3.7.3"
  }
 },
 "nbformat": 4,
 "nbformat_minor": 2
}
