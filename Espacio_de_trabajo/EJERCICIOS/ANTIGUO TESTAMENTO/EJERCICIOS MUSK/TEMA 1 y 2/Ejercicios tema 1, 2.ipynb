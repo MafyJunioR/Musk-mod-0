{
 "cells": [
  {
   "cell_type": "markdown",
   "metadata": {},
   "source": [
    "1. Haz un programa que escriba una línea con el mensaje “Buenos días a todo el mundo!”."
   ]
  },
  {
   "cell_type": "markdown",
   "metadata": {},
   "source": [
    "```\n",
    "Input: \n",
    "    \n",
    "Output: Buenos dias a todo el mundo!\n",
    "\n",
    "```"
   ]
  },
  {
   "cell_type": "code",
   "execution_count": 1,
   "metadata": {},
   "outputs": [
    {
     "name": "stdout",
     "output_type": "stream",
     "text": [
      "Buenos dias a todo el mundo!\n"
     ]
    }
   ],
   "source": [
    "print('Buenos dias a todo el mundo!')"
   ]
  },
  {
   "cell_type": "markdown",
   "metadata": {},
   "source": [
    "2. Haz un programa que declare tres palabras a, b y c, y que escriba una línea con c, b y a en este orden."
   ]
  },
  {
   "cell_type": "markdown",
   "metadata": {},
   "source": [
    "```\n",
    "Input: 'hola' 'adios' 'hasta pronto'\n",
    "    \n",
    "Output: hasta pronto adios hola\n",
    "\n",
    "```"
   ]
  },
  {
   "cell_type": "code",
   "execution_count": 2,
   "metadata": {},
   "outputs": [
    {
     "name": "stdout",
     "output_type": "stream",
     "text": [
      "hasta pronto adios hola\n"
     ]
    }
   ],
   "source": [
    "a = 'hola'\n",
    "b = 'adios'\n",
    "c = 'hasta pronto'\n",
    "print(c, b, a)"
   ]
  },
  {
   "cell_type": "markdown",
   "metadata": {},
   "source": [
    "3. Haz un programa que declare dos números y que escriba la suma."
   ]
  },
  {
   "cell_type": "markdown",
   "metadata": {},
   "source": [
    "```\n",
    "Input: 10 20 \n",
    "    \n",
    "Output: 30\n",
    "```"
   ]
  },
  {
   "cell_type": "code",
   "execution_count": 3,
   "metadata": {},
   "outputs": [
    {
     "name": "stdout",
     "output_type": "stream",
     "text": [
      "30\n"
     ]
    }
   ],
   "source": [
    "x = 10\n",
    "y = 20\n",
    "\n",
    "print(x + y)"
   ]
  },
  {
   "cell_type": "markdown",
   "metadata": {},
   "source": [
    "4. Haz un programa que declare dos números y que escriba el máximo."
   ]
  },
  {
   "cell_type": "markdown",
   "metadata": {},
   "source": [
    "```\n",
    "Input: 10 20 \n",
    "    \n",
    "Output: 20\n",
    "```"
   ]
  },
  {
   "cell_type": "code",
   "execution_count": 4,
   "metadata": {},
   "outputs": [
    {
     "name": "stdout",
     "output_type": "stream",
     "text": [
      "20\n"
     ]
    }
   ],
   "source": [
    "x = 10\n",
    "y = 20\n",
    "\n",
    "print(max(x, y))"
   ]
  },
  {
   "cell_type": "markdown",
   "metadata": {},
   "source": [
    "5. Haz un programa que declare tres números, todos diferentes, y que escriba el máximo."
   ]
  },
  {
   "cell_type": "markdown",
   "metadata": {},
   "source": [
    "```\n",
    "Input: 10 20 30\n",
    "    \n",
    "Output: 30\n",
    "```"
   ]
  },
  {
   "cell_type": "code",
   "execution_count": 5,
   "metadata": {},
   "outputs": [
    {
     "name": "stdout",
     "output_type": "stream",
     "text": [
      "30\n"
     ]
    }
   ],
   "source": [
    "x = 10\n",
    "y = 20\n",
    "z = 30\n",
    "\n",
    "print(max(x, y, z))"
   ]
  },
  {
   "cell_type": "markdown",
   "metadata": {},
   "source": [
    "6. Hacer un programa que dado un valor calcule su cuadrado y el cubo. "
   ]
  },
  {
   "cell_type": "markdown",
   "metadata": {},
   "source": [
    "```\n",
    "Input: 10\n",
    "    \n",
    "Output: 100 1000\n",
    "```"
   ]
  },
  {
   "cell_type": "code",
   "execution_count": 6,
   "metadata": {},
   "outputs": [
    {
     "name": "stdout",
     "output_type": "stream",
     "text": [
      "100\n",
      "1000\n"
     ]
    }
   ],
   "source": [
    "x = 10\n",
    "cuadrado = pow(x, 2)\n",
    "cubo = pow(x, 3)\n",
    "\n",
    "print(cuadrado)\n",
    "print(cubo)"
   ]
  },
  {
   "cell_type": "markdown",
   "metadata": {},
   "source": [
    "7. Haz un programa que devuelva el valor absoluto de un número."
   ]
  },
  {
   "cell_type": "markdown",
   "metadata": {},
   "source": [
    "```\n",
    "Input: -10\n",
    "    \n",
    "Output: 10\n",
    "```"
   ]
  },
  {
   "cell_type": "code",
   "execution_count": 7,
   "metadata": {},
   "outputs": [
    {
     "name": "stdout",
     "output_type": "stream",
     "text": [
      "10\n"
     ]
    }
   ],
   "source": [
    "x = -10\n",
    "print(abs(x))"
   ]
  },
  {
   "cell_type": "markdown",
   "metadata": {},
   "source": [
    "8. Haz un programa que lea dos naturales a y b, con b > 0, y que escriba la división entera d y el residuo r de a entre b. Recordad que, por definición, d y r tienen que ser los únicos enteros tales que 0 ≤ r < b y d · b + r = a. Ejemplo: a=32, b=5, d=6, r=2 ya que 32 = 5 * 6 + 2"
   ]
  },
  {
   "cell_type": "markdown",
   "metadata": {},
   "source": [
    "```\n",
    "Input: 32 5\n",
    "    \n",
    "Output: dividendo: 32, divisor: 5, residuo: 2, cuociente: 6\n",
    "    \n",
    "```"
   ]
  },
  {
   "cell_type": "code",
   "execution_count": 8,
   "metadata": {},
   "outputs": [
    {
     "name": "stdout",
     "output_type": "stream",
     "text": [
      "32 5 2 6\n",
      "dividendo: 32, divisor: 5, residuo: 2, cuociente: 6\n"
     ]
    }
   ],
   "source": [
    "a = 32\n",
    "b = 5\n",
    "residuo = a % b\n",
    "# Division entera\n",
    "cuociente_entero = a // b\n",
    "\n",
    "print(a, b, residuo, cuociente_entero)\n",
    "\n",
    "# Usando format\n",
    "\n",
    "print('dividendo: {}, divisor: {}, residuo: {}, cuociente: {}'.format(a, b, residuo, cuociente_entero))"
   ]
  },
  {
   "cell_type": "markdown",
   "metadata": {},
   "source": [
    "9. Haz un programa que, dada una cantidad de segundos, diga cuántas horas, minutos y segundos representa."
   ]
  },
  {
   "cell_type": "markdown",
   "metadata": {},
   "source": [
    "```\n",
    "Input: 3600\n",
    "    \n",
    "```"
   ]
  },
  {
   "cell_type": "markdown",
   "metadata": {},
   "source": [
    "```\n",
    "Output: 3600 segundos son 60.0 minutos y 1.0 horas\n",
    "\n",
    "```"
   ]
  },
  {
   "cell_type": "code",
   "execution_count": 12,
   "metadata": {},
   "outputs": [
    {
     "name": "stdout",
     "output_type": "stream",
     "text": [
      "3600 segundos son 60.0 minutos y 1.0 horas\n"
     ]
    }
   ],
   "source": [
    "x = 3600 # segundos\n",
    "\n",
    "minutos = x / 60\n",
    "horas = minutos / 60\n",
    "\n",
    "print('{} segundos son {} minutos y {} horas'.format(x, minutos, horas))"
   ]
  },
  {
   "cell_type": "markdown",
   "metadata": {},
   "source": [
    "10. Haz un programa que dada una temperatura en grados Celsius la muestre en grados Fahrenheit y en grados Kelvin. (F= 1.8C + 32 y  ºK =°C + 273ºK)."
   ]
  },
  {
   "cell_type": "markdown",
   "metadata": {},
   "source": [
    "```\n",
    "Input: 40\n",
    "\n",
    "```"
   ]
  },
  {
   "cell_type": "markdown",
   "metadata": {},
   "source": [
    "```\n",
    "Output:\n",
    "\n",
    "Temperatura en Celsius: 40\n",
    "Temperatura en Fahrenheit: 104.0\n",
    "Temperatura en Kelvin: 313\n",
    "```"
   ]
  },
  {
   "cell_type": "code",
   "execution_count": 28,
   "metadata": {},
   "outputs": [
    {
     "name": "stdout",
     "output_type": "stream",
     "text": [
      "Temperatura en Celsius: 40\n",
      "Temperatura en Fahrenheit: 104.0\n",
      "Temperatura en Kelvin: 313\n"
     ]
    }
   ],
   "source": [
    "c = 40\n",
    "f = 1.8 * c + 32\n",
    "k = c + 273\n",
    "\n",
    "print('Temperatura en Celsius: {}'.format(c))\n",
    "print('Temperatura en Fahrenheit: {}'.format(f))\n",
    "print('Temperatura en Kelvin: {}'.format(k))"
   ]
  }
 ],
 "metadata": {
  "kernelspec": {
   "display_name": "Python 3",
   "language": "python",
   "name": "python3"
  },
  "language_info": {
   "codemirror_mode": {
    "name": "ipython",
    "version": 3
   },
   "file_extension": ".py",
   "mimetype": "text/x-python",
   "name": "python",
   "nbconvert_exporter": "python",
   "pygments_lexer": "ipython3",
   "version": "3.7.3"
  }
 },
 "nbformat": 4,
 "nbformat_minor": 2
}
